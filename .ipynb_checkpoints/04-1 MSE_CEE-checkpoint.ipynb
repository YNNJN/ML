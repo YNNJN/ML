{
 "cells": [
  {
   "cell_type": "code",
   "execution_count": 0,
   "metadata": {
    "colab": {},
    "colab_type": "code",
    "id": "IWnJHhRMDTCO"
   },
   "outputs": [],
   "source": [
    "import numpy as np\n",
    "\n",
    "# one-hot encoding : 값이 2인 인덱스가 정답\n",
    "y = [0, 0, 1, 0, 0, 0, 0, 0, 0, 0]\n",
    "\n",
    "# 2번 인덱스에 가장 큰 정답률을 부여함\n",
    "y_hat1 = [0.1, 0.05, 0.6, 0.0, 0.05, 0.1, 0.0, 0.1, 0.0, 0.0]\n",
    "\n",
    "# 7번 인덱스에 가장 큰 정답률을 부여함\n",
    "y_hat2 = [0.1, 0.05, 0.1, 0.0, 0.05, 0.1, 0.0, 0.6, 0.0, 0.0]"
   ]
  },
  {
   "cell_type": "markdown",
   "metadata": {
    "colab_type": "text",
    "id": "rzOBayQ48PCY"
   },
   "source": [
    "*여기서 정답 레이블 y 는 [One-hot encoding](https://wikidocs.net/22647)되어 있음*<br><br>\n",
    "\n"
   ]
  },
  {
   "cell_type": "markdown",
   "metadata": {
    "colab_type": "text",
    "id": "pG4diX877mbL"
   },
   "source": [
    "# 평균 제곱 오차, MSE(Mean Squared Error)<br>\n",
    "실제 정답에 대한 정답률의 오차뿐만 아니라 다른 오답들에 대한 정답률 오차또한 포함하여 계산한다.\n"
   ]
  },
  {
   "cell_type": "code",
   "execution_count": 0,
   "metadata": {
    "colab": {},
    "colab_type": "code",
    "id": "Z7YoDaW07gef"
   },
   "outputs": [],
   "source": [
    "def mse(y, y_hat):\n",
    "    return (1/2) * np.sum((y - y_hat) ** 2)"
   ]
  },
  {
   "cell_type": "code",
   "execution_count": 0,
   "metadata": {
    "colab": {
     "base_uri": "https://localhost:8080/",
     "height": 34
    },
    "colab_type": "code",
    "id": "mjMINKN0EVTl",
    "outputId": "ca04c403-a757-4aaa-cbac-f5ce1fd32771"
   },
   "outputs": [
    {
     "data": {
      "text/plain": [
       "0.09750000000000003"
      ]
     },
     "execution_count": 21,
     "metadata": {
      "tags": []
     },
     "output_type": "execute_result"
    }
   ],
   "source": [
    "mse(np.array(y), np.array(y_hat1))"
   ]
  },
  {
   "cell_type": "code",
   "execution_count": 0,
   "metadata": {
    "colab": {
     "base_uri": "https://localhost:8080/",
     "height": 34
    },
    "colab_type": "code",
    "id": "GEr7zgvmK8zn",
    "outputId": "582200d8-757d-4eca-961c-5eb88e0036dd"
   },
   "outputs": [
    {
     "data": {
      "text/plain": [
       "0.5975"
      ]
     },
     "execution_count": 22,
     "metadata": {
      "tags": []
     },
     "output_type": "execute_result"
    }
   ],
   "source": [
    "mse(np.array(y), np.array(y_hat2))"
   ]
  },
  {
   "cell_type": "markdown",
   "metadata": {
    "colab_type": "text",
    "id": "F_D_A51lLy1M"
   },
   "source": [
    "정답에 가까울수록 오차 값이 작아짐을 알 수 있다.<br><br>"
   ]
  },
  {
   "cell_type": "markdown",
   "metadata": {
    "colab_type": "text",
    "id": "YHxCrEJBL9lV"
   },
   "source": [
    "# 교차 엔트로피 오차, CEE(Cross Entropy Error)"
   ]
  },
  {
   "cell_type": "code",
   "execution_count": 0,
   "metadata": {
    "colab": {},
    "colab_type": "code",
    "id": "r7VEaEWbMrsC"
   },
   "outputs": [],
   "source": [
    "def cee(y, y_hat):\n",
    "    delta = 1e-7\n",
    "    return -np.sum(y_hat * np.log(y + delta))"
   ]
  },
  {
   "cell_type": "code",
   "execution_count": 0,
   "metadata": {
    "colab": {
     "base_uri": "https://localhost:8080/",
     "height": 34
    },
    "colab_type": "code",
    "id": "NH1EZZ8iNyru",
    "outputId": "45b55530-edae-43ba-cb21-c2b1dddadca0"
   },
   "outputs": [
    {
     "data": {
      "text/plain": [
       "6.447238200383332"
      ]
     },
     "execution_count": 24,
     "metadata": {
      "tags": []
     },
     "output_type": "execute_result"
    }
   ],
   "source": [
    "cee(np.array(y), np.array(y_hat1))"
   ]
  },
  {
   "cell_type": "code",
   "execution_count": 0,
   "metadata": {
    "colab": {
     "base_uri": "https://localhost:8080/",
     "height": 34
    },
    "colab_type": "code",
    "id": "9Cdi_m5iOWTr",
    "outputId": "afd69dfe-74dc-460a-8764-e01017804bd8"
   },
   "outputs": [
    {
     "data": {
      "text/plain": [
       "14.50628607586249"
      ]
     },
     "execution_count": 25,
     "metadata": {
      "tags": []
     },
     "output_type": "execute_result"
    }
   ],
   "source": [
    "cee(np.array(y), np.array(y_hat2))"
   ]
  },
  {
   "cell_type": "markdown",
   "metadata": {
    "colab_type": "text",
    "id": "f4Z2EceHOerp"
   },
   "source": [
    "정답에 가까울수록 오차 값이 작아짐을 알 수 있다.<br><br>"
   ]
  }
 ],
 "metadata": {
  "colab": {
   "collapsed_sections": [],
   "name": "MSE_CEE.ipynb",
   "provenance": []
  },
  "kernelspec": {
   "display_name": "Python 3",
   "language": "python",
   "name": "python3"
  },
  "language_info": {
   "codemirror_mode": {
    "name": "ipython",
    "version": 3
   },
   "file_extension": ".py",
   "mimetype": "text/x-python",
   "name": "python",
   "nbconvert_exporter": "python",
   "pygments_lexer": "ipython3",
   "version": "3.7.3"
  }
 },
 "nbformat": 4,
 "nbformat_minor": 1
}
