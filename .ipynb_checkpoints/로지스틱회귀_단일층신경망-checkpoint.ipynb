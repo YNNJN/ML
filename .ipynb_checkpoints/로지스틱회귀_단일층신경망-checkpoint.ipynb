{
 "cells": [
  {
   "cell_type": "markdown",
   "metadata": {
    "colab_type": "text",
    "id": "uy4KaKmU2fbn"
   },
   "source": [
    "# 04-6 로지스틱 회귀 뉴런으로 단일층 신경망 만들기"
   ]
  },
  {
   "cell_type": "markdown",
   "metadata": {
    "colab_type": "text",
    "id": "qn5dzWPo2fbp"
   },
   "source": [
    "#### 일반적인 신경망은 다음과 같이 입력층과 출력층 사이에 은닉층이 있으며 활성화 함수를 은닉층과 출력층의 한 부분으로 간주한다."
   ]
  },
  {
   "cell_type": "markdown",
   "metadata": {
    "colab_type": "text",
    "id": "3YzJwmxh2fbr"
   },
   "source": [
    "![neural network](https://img1.daumcdn.net/thumb/R1280x0/?scode=mtistory2&fname=https%3A%2F%2Fk.kakaocdn.net%2Fdn%2FbFKOXR%2FbtqCjdQQuEk%2FMn8e05EkdzPZT49nS98RD0%2Fimg.png)"
   ]
  },
  {
   "cell_type": "markdown",
   "metadata": {
    "colab_type": "text",
    "id": "TeE0V6ga2fbt"
   },
   "source": [
    "### 로지스틱 회귀 = 단일층 신경망(single layer neural network)"
   ]
  },
  {
   "cell_type": "markdown",
   "metadata": {
    "colab_type": "text",
    "id": "X-L_DIO_2fbv"
   },
   "source": [
    "- 은닉층이 없는 신경망\n",
    "    - 입력층 : 입력 그 자체이므로 프로그램 구현 시 겉으로 드러나지 않는다."
   ]
  },
  {
   "cell_type": "markdown",
   "metadata": {
    "colab_type": "text",
    "id": "brCYUpEJ2fbw"
   },
   "source": [
    "![single layer neural network](https://img1.daumcdn.net/thumb/R1280x0/?scode=mtistory2&fname=https%3A%2F%2Fk.kakaocdn.net%2Fdn%2FNVHpi%2FbtqCpPU3cF6%2FsmO07gw1KrgHKqRwPjGTeK%2Fimg.png)"
   ]
  },
  {
   "cell_type": "markdown",
   "metadata": {
    "colab_type": "text",
    "id": "ful4CLhJ2fb0"
   },
   "source": [
    "### 지난주 시간에 구현한 LogisticNeuron class에 몇 가지 기능을 추가하여 단일층 신경망을 구현하기\n",
    "- 손실 함수(제곱 오차 손실 함수, 로지스틱 손실 함수)의 결괏값을 최소화하는 방향으로 가중치 업데이트했었다.\n",
    "    - 만약 손실 함수의 결괏값이 줄어들지 않는다면? ==> 잘못된 것\n",
    "    - ∴ 손실 함수의 결괏값을 관찰하는 가능 등을 추가한다."
   ]
  },
  {
   "cell_type": "code",
   "execution_count": 0,
   "metadata": {
    "colab": {
     "base_uri": "https://localhost:8080/",
     "height": 36
    },
    "colab_type": "code",
    "id": "a4flvUIt2fb2",
    "outputId": "f525727b-bc56-413e-ac28-52f8650e90fb"
   },
   "outputs": [
    {
     "name": "stdout",
     "output_type": "stream",
     "text": [
      "(455, 30) (114, 30)\n"
     ]
    }
   ],
   "source": [
    "import matplotlib.pyplot as plt\n",
    "import numpy as np\n",
    "import pandas as pd\n",
    "from sklearn.datasets import load_breast_cancer\n",
    "from sklearn.model_selection import train_test_split\n",
    "\n",
    "cancer = load_breast_cancer()\n",
    "x = cancer.data\n",
    "y = cancer.target\n",
    "\n",
    "x_train, x_test, y_train, y_test = train_test_split(x, y, stratify = y, test_size = 0.2, random_state = 42)\n",
    "print(x_train.shape, x_test.shape)"
   ]
  },
  {
   "cell_type": "markdown",
   "metadata": {
    "colab_type": "text",
    "id": "SpyJniSy2fb9"
   },
   "source": [
    "### 손실 함수의 결괏값 조정해 저장 기능 추가하기\n",
    "\n",
    "#### __init__() 메서드에 손실 함수의 결괏값을 저장할 리스트 self.losses를 만든 후, 샘플마다 손실 함수를 계산하고 그 결괏값을 모두 더한 다음 평균값을 self.losses 변수에 저장한다."
   ]
  },
  {
   "cell_type": "code",
   "execution_count": 0,
   "metadata": {
    "colab": {},
    "colab_type": "code",
    "id": "t56WK9vF2fcA"
   },
   "outputs": [],
   "source": [
    "def __init__(self):\n",
    "    self.w = None\n",
    "    self.b = None\n",
    "    self.losses = []\n",
    "    \n",
    "# 다른 메서드 생략\n",
    "\n",
    "def fit(self, x, y, epochs=100):\n",
    "        self.w = np.ones(x.shape[1]) # 가중치 초기화\n",
    "        self.b = 0                   # 절편 초기화\n",
    "        for i in range(epochs):      # epochs만큼 반복\n",
    "            loss = 0\n",
    "            indexes = np.random.permutation(np.arange(len(x))) # 인덱스를 무작위로 섞는다.\n",
    "            # np.random.permutation ==> 배열이 저장된 변수자체를 변경하는것 X, 랜덤으로 섞은 배열만을 다시 반환\n",
    "            for i in indexes:        # 모든 샘플에 대해 반복\n",
    "                z = self.forpass(x[i])  # 정방향 계산\n",
    "                a = self.activation(z) # 활성화 함수 적용\n",
    "                err = -(y[i] - a)     # 오차 계산\n",
    "                w_grad, b_grad = self.backprop(x[i], err) # 역방향 계산\n",
    "                self.w -= w_grad     # 가중치 업데이트\n",
    "                self.b -= b_grad     # 절편 업데이트\n",
    "                # 안전한 로그 계산을 위해 클리핑한 후 손실을 누적한다.\n",
    "                a = np.clip(a, 1e-10, 1-1e-10)\n",
    "                loss += -(y[i] * np.log(a) + (1-y[i]) * np.log(1-a)) # epoch마다 평균 손실을 저장\n",
    "            self.losses.append(loss/len(y)) # 모두 더한 손실 함수 결괏값을 샘플 개수로 나눈 평균값을 저장"
   ]
  },
  {
   "cell_type": "markdown",
   "metadata": {
    "colab_type": "text",
    "id": "LmfCd7Kf2fcF"
   },
   "source": [
    "#### self.activation() 메서드로 계산한 a는 np.log()의 계산을 위해 한 번 더 조정한다. 왜?"
   ]
  },
  {
   "cell_type": "markdown",
   "metadata": {
    "colab_type": "text",
    "id": "cTwNh8s-2fcG"
   },
   "source": [
    "- a가 0에 가까워질 때, np.log() 함수의 값 ==> -∞\n",
    "- a가 1에 가까워질 때, np.log() 함수의 값 ==> 0\n",
    "    - ∴ 손실값이 무한해지면 정확한 계산을 할 수 없기때문에 a값이 -1*10^-10 ~ 1-1*10^10 사이가 되도록 조정\n",
    "        - 이 때 np.clip(배열, 최소값 기준, 최대값 기준) 함수 사용해서 지정 범위 기준을 벗어나는 값에 대해 일괄적으로 최소값과 최대값을 대치해준다. 즉, 주어진 범위 밖의 값을 범위 양 끝의 값으로 잘라낸다. "
   ]
  },
  {
   "cell_type": "markdown",
   "metadata": {
    "colab_type": "text",
    "id": "7jMf2eiW2fcI"
   },
   "source": [
    "### 여러 가지 경사 하강법(gradient descent)에 대해 알아보기"
   ]
  },
  {
   "cell_type": "markdown",
   "metadata": {
    "colab_type": "text",
    "id": "-V90qq572fcJ"
   },
   "source": [
    "#### 1. 확률적 경사 하강법(SGD, stochastic gradient descent)"
   ]
  },
  {
   "cell_type": "markdown",
   "metadata": {
    "colab_type": "text",
    "id": "x1SipYqM2fcL"
   },
   "source": [
    "- 무작위로 추출한 일부 샘플 데이터(전체 데이터 사용X)를 각각 1개씩 그레디언트를 계산하여 가중치 업데이트\n",
    "- 속도가 매우 빠르고 계산 비용이 적다.\n",
    "- 샘플 선택이 확률적이기 때문에 배치 경사 하강법에 비해 불안정하다.\n",
    "- 가중치가 최적값에 수렴하는 학습 중간 과정에서 결과의 진폭이 크고 불안정하다.\n",
    "- 데이터를 1개씩 처리하기 때문에 오차율이 크고 GPU의 성능을 모두 활용하지 못한다."
   ]
  },
  {
   "cell_type": "markdown",
   "metadata": {
    "colab_type": "text",
    "id": "t8vFrc_c2fcM"
   },
   "source": [
    "![sgd](https://img1.daumcdn.net/thumb/R1280x0/?scode=mtistory2&fname=https%3A%2F%2Fk.kakaocdn.net%2Fdn%2FoctWe%2FbtqClyGKYFU%2FeL2f8aTZnNKPIjhXdAjDz1%2Fimg.png)"
   ]
  },
  {
   "cell_type": "markdown",
   "metadata": {
    "colab_type": "text",
    "id": "WPrfS_ov2fcO"
   },
   "source": [
    "#### 2. 배치 경사 하강법(BGD, batch gradient descent)"
   ]
  },
  {
   "cell_type": "markdown",
   "metadata": {
    "colab_type": "text",
    "id": "56kYuHoT2fcP"
   },
   "source": [
    "- 전체 훈련 데이터 세트를 사용하여 한 번에 그레디언트를 계산\n",
    "- 가중치가 최적값에 수렴하는 과정이 안정적이다.\n",
    "- 데이터가 많을 경우 수행 시간이 오래 걸리고 계산 비용이 많이 든다."
   ]
  },
  {
   "cell_type": "markdown",
   "metadata": {
    "colab_type": "text",
    "id": "nvOuUftA2fcQ"
   },
   "source": [
    "#### 3. 미니 배치 경사 하강법(mini-batch gradient descent)"
   ]
  },
  {
   "cell_type": "markdown",
   "metadata": {
    "colab_type": "text",
    "id": "QzhRS6TY2fcS"
   },
   "source": [
    "- 확률적 경사 하강법의 장점 + 배치 경사 하강법의 장점\n",
    "- 중복되지 않도록 무작위로 추출한 훈련 세트를 여러 번 나누어 배치 크기를 작게 한 후 그레디언트 계산\n",
    "- SGD(확률적 경사 하강법)에 비해 병렬 처리에 유리하며 파라미터 공간에서 덜 불규칙하게 학습\n",
    "- BGD(배치 경사 하강법)보다 빠르고 SGD보다 낮은 오차율을 가진다."
   ]
  },
  {
   "cell_type": "markdown",
   "metadata": {
    "colab_type": "text",
    "id": "UW80rDiQ2fcU"
   },
   "source": [
    "![mini-batch](https://img1.daumcdn.net/thumb/R1280x0/?scode=mtistory2&fname=https%3A%2F%2Fk.kakaocdn.net%2Fdn%2FqeOqW%2FbtqCpP1PGmG%2Fatwt2hdxaWzCiGKVpDJV80%2Fimg.png)"
   ]
  },
  {
   "cell_type": "markdown",
   "metadata": {
    "colab_type": "text",
    "id": "ar3sDHgT2fcY"
   },
   "source": [
    "### 3가지 경사 하강법 비교하기"
   ]
  },
  {
   "cell_type": "markdown",
   "metadata": {
    "colab_type": "text",
    "id": "PLZtqJgo2fcZ"
   },
   "source": [
    "![3gd](https://img1.daumcdn.net/thumb/R1280x0/?scode=mtistory2&fname=https%3A%2F%2Fk.kakaocdn.net%2Fdn%2Fbgycut%2FbtqCjRthlC1%2Fbai13TwOioBKUB2uveySCK%2Fimg.png)"
   ]
  },
  {
   "cell_type": "markdown",
   "metadata": {
    "colab_type": "text",
    "id": "mrv0E6NL2fca"
   },
   "source": [
    "- 모두 최소값 근처에 도달했지만 배치 경사 하강법의 경로가 실제로 최소값에서 멈춘 반면 확률적 경사 하강법과 미니 배치 경사 하강법은 근처에서 맴돌고 있는데 배치 경사 하강법은 매 스텝에서 많은 시간이 소요되며 확률적 경사 하강법, 미니 배치 경사 하강법은 적절한 학습 스케쥴을 사용하면 최소값에 도달할 수 있다."
   ]
  },
  {
   "cell_type": "markdown",
   "metadata": {
    "colab_type": "text",
    "id": "3nlMHM_x2fcc"
   },
   "source": [
    "### 매 에포크마다 훈련 세트의 샘플 순서를 섞어 사용하기"
   ]
  },
  {
   "cell_type": "markdown",
   "metadata": {
    "colab_type": "text",
    "id": "CPaKHtit2fcd"
   },
   "source": [
    "- 훈련 세트의 샘플 순서를 섞으면 가중치 최적값의 탐색 과정이 다양해져 제대로 찾을 수 있다."
   ]
  },
  {
   "cell_type": "markdown",
   "metadata": {
    "colab_type": "text",
    "id": "8VA0en7A2fcf"
   },
   "source": [
    "![epochs](https://img1.daumcdn.net/thumb/R1280x0/?scode=mtistory2&fname=https%3A%2F%2Fk.kakaocdn.net%2Fdn%2FdoeBrp%2FbtqCn1hmMvL%2FJRM2iRl2gKYWdSuRymnWj1%2Fimg.png)"
   ]
  },
  {
   "cell_type": "markdown",
   "metadata": {
    "colab_type": "text",
    "id": "wQnQoCWT2fcg"
   },
   "source": [
    "|<center>1번째 에포크 샘플 순서</center>|<center>2번째 에포크 샘플 순서</center>|\n",
    "|:-------------|:-------------:|\n",
    "|<center>**1, 3, 2**</center>|<center>**1, 2, 4**</center>|"
   ]
  },
  {
   "cell_type": "markdown",
   "metadata": {
    "colab_type": "text",
    "id": "xT5jDIHH2fch"
   },
   "source": [
    "- 훈련 세트의 샘플 순서를 섞는 전형적인 방법은 Numpy 배열의 인덱스를 섞은 후 인덱스 순서대로 훈련 세트를 나열하는 것\n",
    "    - 훈련 세트 자체를 섞는 것보다 효율적이고 빠르다. ==> np.random.permutation() 함수 사용 시 구현가능"
   ]
  },
  {
   "cell_type": "code",
   "execution_count": 0,
   "metadata": {
    "colab": {},
    "colab_type": "code",
    "id": "jAwgwxBL2fci"
   },
   "outputs": [],
   "source": [
    "def fit(self, x, y, epochs=100):\n",
    "        self.w = np.ones(x.shape[1]) # 가중치 초기화\n",
    "        self.b = 0                   # 절편 초기화\n",
    "        for i in range(epochs):      # epochs만큼 반복\n",
    "            loss = 0\n",
    "            indexes = np.random.permutation(np.arange(len(x))) # 인덱스를 무작위로 섞는다.\n",
    "            # np.random.permutation ==> 배열이 저장된 변수자체를 변경하는것 X, 랜덤으로 섞은 배열만을 다시 반환\n",
    "            for i in indexes:        # 모든 샘플에 대해 반복\n",
    "                z = self.forpass(x[i])  # 정방향 계산\n",
    "                a = self.activation(z) # 활성화 함수 적용\n",
    "                err = -(y[i] - a)     # 오차 계산\n",
    "                w_grad, b_grad = self.backprop(x[i], err) # 역방향 계산\n",
    "                self.w -= w_grad     # 가중치 업데이트\n",
    "                self.b -= b_grad     # 절편 업데이트\n",
    "                # 안전한 로그 계산을 위해 클리핑한 후 손실을 누적한다.\n",
    "                a = np.clip(a, 1e-10, 1-1e-10)\n",
    "                loss += -(y[i] * np.log(a) + (1-y[i]) * np.log(1-a)) # epoch마다 평균 손실을 저장\n",
    "            self.losses.append(loss/len(y)) # 모두 더한 손실 함수 결괏값을 샘플 개수로 나눈 평균값을 저장"
   ]
  },
  {
   "cell_type": "markdown",
   "metadata": {
    "colab_type": "text",
    "id": "WkCQtSQr2fcm"
   },
   "source": [
    "- 정방향과 오차를 계산할 때 indexes 배열의 인덱스(x[i], y[i])를 사용하여 샘플을 참조한다."
   ]
  },
  {
   "cell_type": "markdown",
   "metadata": {
    "colab_type": "text",
    "id": "ZHbzvyIM2fcn"
   },
   "source": [
    "### 정확도 계산해 주는 score() 메서드 추가 및 predict() 메서드 수정하기"
   ]
  },
  {
   "cell_type": "code",
   "execution_count": 0,
   "metadata": {
    "colab": {},
    "colab_type": "code",
    "id": "EzaLnn-32fco"
   },
   "outputs": [],
   "source": [
    "def predict(self, x):\n",
    "    z = [self.forpass(x_i) for x_i in x] # 정방향 계산\n",
    "    # a = self.activation(np.array(z))\n",
    "    # 시그모이드 함수의 출력값은 0~1 사이의 확률값이고 양성 클래스를 판단하는 기준 ==> 0.5 이상\n",
    "    # z가 0보다 크면? 시그모이드 함수의 출력값 > 0.5\n",
    "    # z가 0보다 작으면? 시그모이드 함수의 출력값 < 0.5\n",
    "    # 따라서 z가 0보다 큰지, 작은지만 판단하면 되므로 해당 메서드에서는 굳이 시그모이드 함수를 사용하지 않는다.\n",
    "    return np.array(z) > 0               # 계단 함수 적용\n",
    "\n",
    "def score(self, x, y):\n",
    "    return np.mean(self.predict(x) == y)"
   ]
  },
  {
   "cell_type": "markdown",
   "metadata": {
    "colab_type": "text",
    "id": "sxvzAkj52fcr"
   },
   "source": [
    "### 단일층 신경망 클래스의 전체 코드"
   ]
  },
  {
   "cell_type": "code",
   "execution_count": 0,
   "metadata": {
    "colab": {},
    "colab_type": "code",
    "id": "MNWXrXXm2fct"
   },
   "outputs": [],
   "source": [
    "class SingleLayer:\n",
    "    \n",
    "    def __init__(self):\n",
    "        self.w = None\n",
    "        self.b = None\n",
    "        self.losses = []\n",
    "    \n",
    "    def forpass(self, x):\n",
    "        z = np.sum(x * self.w) + self.b # 직선 방정식 계산\n",
    "        return z\n",
    "    \n",
    "    def backprop(self, x, err):\n",
    "        w_grad = x * err # 가중치에 대한 그레디언트 계산\n",
    "        b_grad = 1 * err # 절편에 대한 그레디언트 계산\n",
    "        return w_grad, b_grad\n",
    "    \n",
    "    def add_bias(self, x):\n",
    "        return np.c_[np.ones((x.shape[0], 1), x)] # 행렬의 맨 앞에 1로 채워진 열 벡터를 추가\n",
    "    \n",
    "    def activation(self, z):\n",
    "        a = 1 / (1 + np.exp(-z)) # 시그모이드 계산\n",
    "        return a\n",
    "    \n",
    "    def fit(self, x, y, epochs=100):\n",
    "        self.w = np.ones(x.shape[1]) # 가중치 초기화\n",
    "        self.b = 0                   # 절편 초기화\n",
    "        for i in range(epochs):      # epochs만큼 반복\n",
    "            loss = 0\n",
    "            indexes = np.random.permutation(np.arange(len(x))) # 인덱스를 무작위로 섞는다.\n",
    "            for i in indexes:        # 모든 샘플에 대해 반복\n",
    "                z = self.forpass(x[i])  # 정방향 계산\n",
    "                a = self.activation(z) # 활성화 함수 적용\n",
    "                err = -(y[i] - a)     # 오차 계산\n",
    "                w_grad, b_grad = self.backprop(x[i], err) # 역방향 계산\n",
    "                self.w -= w_grad     # 가중치 업데이트\n",
    "                self.b -= b_grad     # 절편 업데이트\n",
    "                a = np.clip(a, 1e-10, 1-1e-10)\n",
    "                loss += -(y[i] * np.log(a) + (1-y[i]) * np.log(1-a)) # epoch마다 평균 손실을 저장\n",
    "            self.losses.append(loss/len(y)) # 모두 더한 손실 함수 결괏값을 샘플 개수로 나눈 평균값을 저장\n",
    "            \n",
    "    def predict(self, x):\n",
    "        z = [self.forpass(x_i) for x_i in x] # 정방향 계산\n",
    "        return np.array(z) > 0               # 계단 함수 적용\n",
    "\n",
    "    def score(self, x, y):\n",
    "        return np.mean(self.predict(x) == y)"
   ]
  },
  {
   "cell_type": "markdown",
   "metadata": {
    "colab_type": "text",
    "id": "wp_vd3hc2fcy"
   },
   "source": [
    "### 단일층 신경망 훈련하기"
   ]
  },
  {
   "cell_type": "markdown",
   "metadata": {
    "colab_type": "text",
    "id": "_rp9zSS82fcz"
   },
   "source": [
    "#### 1. 단일층 신경망 훈련하고 정확도 출력하기"
   ]
  },
  {
   "cell_type": "code",
   "execution_count": 0,
   "metadata": {
    "colab": {
     "base_uri": "https://localhost:8080/",
     "height": 55
    },
    "colab_type": "code",
    "id": "ZfDfd75B2fc1",
    "outputId": "bb44b77f-0e8e-400b-e2fa-8e38b6fd7b4b"
   },
   "outputs": [
    {
     "name": "stderr",
     "output_type": "stream",
     "text": [
      "/usr/local/lib/python3.6/dist-packages/ipykernel_launcher.py:21: RuntimeWarning: overflow encountered in exp\n"
     ]
    },
    {
     "data": {
      "text/plain": [
       "0.9385964912280702"
      ]
     },
     "execution_count": 8,
     "metadata": {
      "tags": []
     },
     "output_type": "execute_result"
    }
   ],
   "source": [
    "layer = SingleLayer() # LogisticNeuron과 마찬가지로 SingleLayer 객체 생성\n",
    "layer.fit(x_train, y_train) # 신경망 훈련\n",
    "layer.score(x_test, y_test) # 정확도 출력"
   ]
  },
  {
   "cell_type": "markdown",
   "metadata": {
    "colab_type": "text",
    "id": "-6eHpE5s2fc3"
   },
   "source": [
    "### LogisticNeuron과 동일하게 fit() 메서드의 에포크 매개변수 기본값을 사용했는데 왜 성능이 좋아졌나?"
   ]
  },
  {
   "cell_type": "markdown",
   "metadata": {
    "colab_type": "text",
    "id": "3qZTp1aF2fc4"
   },
   "source": [
    "- 에포크마다 훈련 세트를 무작위로 섞어 손실 함수의 값을 줄였기 때문"
   ]
  },
  {
   "cell_type": "markdown",
   "metadata": {
    "colab_type": "text",
    "id": "EE97x2_A2fc6"
   },
   "source": [
    "#### 2. 손실 함수 누적값 확인하기"
   ]
  },
  {
   "cell_type": "markdown",
   "metadata": {
    "colab_type": "text",
    "id": "bRuqVw_d2fc7"
   },
   "source": [
    "- layer 객체의 losses 속성에 append한 값(모두 더한 손실 함수 결괏값을 샘플 개수로 나눈 평균값들)을 그래프로 확인"
   ]
  },
  {
   "cell_type": "code",
   "execution_count": 0,
   "metadata": {
    "colab": {
     "base_uri": "https://localhost:8080/",
     "height": 279
    },
    "colab_type": "code",
    "id": "42LyLJBw2fc7",
    "outputId": "44268730-caf7-42b9-f99a-5716e43cac2f"
   },
   "outputs": [
    {
     "data": {
      "image/png": "[encoded data removed]",
      "text/plain": [
       "<Figure size 432x288 with 1 Axes>"
      ]
     },
     "metadata": {
      "tags": []
     },
     "output_type": "display_data"
    }
   ],
   "source": [
    "plt.plot(layer.losses)\n",
    "plt.xlabel('epoch')\n",
    "plt.ylabel('loss')\n",
    "plt.show()"
   ]
  },
  {
   "cell_type": "markdown",
   "metadata": {
    "colab_type": "text",
    "id": "Cn8jCvF62fc9"
   },
   "source": [
    "## 가장 기초적인 신경망 알고리즘 구현 완성!"
   ]
  },
  {
   "cell_type": "markdown",
   "metadata": {
    "colab_type": "text",
    "id": "sDdt0EjM2fc-"
   },
   "source": [
    "- 로지스틱 손실 함수의 값이 에포크가 진행됨에 따라 감소하고 있음을 확인할 수 있다.\n",
    "- 신경망 알고리즘은 로지스틱 회귀 알고리즘을 확장한 네트워크로 생각해도 좋다.\n",
    "    - 단, 은닉층을 사용하지 않았으므로 이 단일층 신경망은 로지스틱 회귀나 퍼셉트론 알고리즘과 매우 비슷하다."
   ]
  },
  {
   "cell_type": "markdown",
   "metadata": {
    "colab_type": "text",
    "id": "5rVaTV7u2fc_"
   },
   "source": [
    "# 사이킷런(Scikit-learn)이란?"
   ]
  },
  {
   "cell_type": "markdown",
   "metadata": {
    "colab_type": "text",
    "id": "ov3EJEcF2fdA"
   },
   "source": [
    "- 파이썬(Python)의 머신러닝 라이브러리\n",
    "- 머신러닝 기술을 활용하는데 필요한 다양한 기능을 제공\n",
    "    - 기계 학습(Machine learning)은 인공 지능의 한 분야, 컴퓨터가 학습할 수 있도록 하는 알고리즘과 기술을 개발하는 분야\n",
    "- 딥러닝 모델을 텐서플로, 케라스, 파이토치를 이용해서 생성 할 수 있는 것처럼 머신러닝은 주로 사이킷런을 사용\n",
    "- 지도학습을 위한 모듈, 비지도학습을 위한 모듈, 모델 선택 및 평가를 위한 모듈, 데이터 변환 및 데이터를 불러오기 위한 모듈, 계산 성능 향상을 위한 모듈로 구성돼 있다."
   ]
  },
  {
   "cell_type": "markdown",
   "metadata": {
    "colab_type": "text",
    "id": "CxbV0_mS2fdB"
   },
   "source": [
    "### 사이킷런의 모듈"
   ]
  },
  {
   "cell_type": "markdown",
   "metadata": {
    "colab_type": "text",
    "id": "uNyxtRQM2fdC"
   },
   "source": [
    "#### 1. 지도 학습 모듈 : 나이브 베이즈, 의사결정 트리, 서포트 벡터 머신\n",
    "\n",
    "#### 2. 비지도 학습 모듈 : 군집화, 가우시안 혼합 모델\n",
    "\n",
    "#### 3. 모델 선택과 평가 모듈 : 교차 검증, 모델 평가, 모델을 지속성을 위한 모델 저장과 불러오기\n",
    "\n",
    "#### 4. 데이터 변환 모듈 : 파이프라인, 특징 추출, 데이터 전처리, 차원 축소"
   ]
  },
  {
   "cell_type": "markdown",
   "metadata": {
    "colab_type": "text",
    "id": "VNbvNWAf2fdC"
   },
   "source": [
    "![sklearn algorithm cheat sheet](https://img1.daumcdn.net/thumb/R1280x0/?scode=mtistory2&fname=https%3A%2F%2Fk.kakaocdn.net%2Fdn%2Fb3IBco%2FbtqCn1Ivt18%2FjR0DSK4MCeD9hVTYYbSVE1%2Fimg.png)"
   ]
  },
  {
   "cell_type": "markdown",
   "metadata": {
    "colab_type": "text",
    "id": "bX2nKRTN2fdD"
   },
   "source": [
    "### 사이킷런 알고리즘 치트 시트"
   ]
  },
  {
   "cell_type": "markdown",
   "metadata": {
    "colab_type": "text",
    "id": "kttO9rar2fdE"
   },
   "source": [
    "- 사이킷런의 코어 개발자, 뉴욕 대학교의 리서치 엔지니어인 안드리아스 뮐러(Andreas C. Müller)가 만듦\n",
    "- 회귀분석(Regression), 분류(Classification), 군집(Clustering), 차원감소(Dimensionality Reduction)으로 구분\n",
    "    - 회귀분석(Regression) : 연속된 수치 값을 예측하는 데 사용되는 알고리즘\n",
    "        - 오래전 통계학자들에 의해 개발되고 발전되어 온 알고리즘으로 한 백년 전 즈음에 프란시스 갈톤(Francis Galton)이라는 통계학자가 아버지와 자식들의 키의 관계를 조사하다가 아버지의 키가 큰데 자식들의 키는 아버지보다 작아지는 경향이 있다는 것을 발견했다. 그래서 자식들의 키가 평균으로 회귀(regression)한다고 표현했고 이로 부터 회귀 분석이라는 용어가 쓰이게 되었다고 한다.\n",
    "    - 분류(Classification) : 결과가 숫자가 아니고 참, 거짓 같은 두 가지 혹은 여러 가지 종류로 구분하는 문제\n",
    "        - 출력 값의 여러 종류를 지칭할 때 레이블(label) 혹은 클래스(class)라고 부른다.\n",
    "    - 군집(Clustering) : 사전 정보 없이 쌓여 있는 그룹 정보를 의미 있는 서브그룹(subgroup) 또는 클러스터(cluster)로 조직하는 탐색적 데이터 분석 기법.\n",
    "        - 분석 과정에서 만든 각 클러스터는 어느 정도 유사성을 공유하고 다른 클러스터와는 비슷하지 않은 샘플 그룹을 형성 ==> 비지도 분류(unsupervised classification)\n",
    "        - 정보를 조직화하고 데이터에서 의미 있는 관계를 유도한다.\n",
    "    - 차원감소(Dimensionality Reduction) : 관련 있는 정보를 대부분 유지하면서 더 작은 차원의 부분 공간(subspace)으로 데이터를 압축\n",
    "        - 비지도 학습의 또 다른 하위 분야는 차원 축소(dimensionality reduction)\n",
    "        - 데이터 시각화에도 유용 (고차원 특성을 1차원 또는 2차원, 3차원 특성 공간으로 투영하여 3D와 2D 산점도(scatterplot)나 히스토그램(histogram)으로 시각화)\n",
    "- 최근 0.18.0 버전부터 인공 신경망(neural network)이 본격적으로 추가되기 시작 But, 위 그림엔 없다.\n",
    "- 데이터의 종류와 크기에 따라 어떤 알고리즘을 선택해야하는지 가이드 해주지만 반드시 이 치트 시트를 따르기보다 알고리즘을 선택하는 데 도움을 줄 수 있는 여러 가지 중 한 가지 참고 사항이 있다고 여기면 좋을듯하다."
   ]
  },
  {
   "cell_type": "markdown",
   "metadata": {
    "colab_type": "text",
    "id": "4NdjzA9w2fdE"
   },
   "source": [
    "![dimensionality reduction](https://img1.daumcdn.net/thumb/R1280x0/?scode=mtistory2&fname=https%3A%2F%2Fk.kakaocdn.net%2Fdn%2F0iGzo%2FbtqClytctfi%2FGsCzCkE37SJcuGB4wynRM0%2Fimg.png)"
   ]
  },
  {
   "cell_type": "markdown",
   "metadata": {
    "colab_type": "text",
    "id": "c8NPUmFU2fdF"
   },
   "source": [
    "# 04-7 사이킷런으로 로지스틱 회귀 수행"
   ]
  },
  {
   "cell_type": "markdown",
   "metadata": {
    "colab_type": "text",
    "id": "qVx4OjqG2fdG"
   },
   "source": [
    "#### 사이킷런의 경사 하강법이 구현된 클래스 ==> SGDClassifier"
   ]
  },
  {
   "cell_type": "markdown",
   "metadata": {
    "colab_type": "text",
    "id": "QyEjSwsa2fdH"
   },
   "source": [
    "- SGDClassifier(확률적 경사 하강법)\n",
    "    - 사이킷런 라이브러리에 있다.\n",
    "    - 로지스틱 회귀, 퍼셉트론, 서포트 벡터 머신(support vector machine, SVM, 기계 학습의 분야 중 하나로 패턴 인식, 자료 분석을 위한 지도 학습 모델이며 주로 분류와 회귀 분석을 위해 사용)"
   ]
  },
  {
   "cell_type": "markdown",
   "metadata": {
    "colab_type": "text",
    "id": "QUQMd4pZ2fdI"
   },
   "source": [
    "### 사이킷런으로 경사 하강법 적용하기"
   ]
  },
  {
   "cell_type": "markdown",
   "metadata": {
    "colab_type": "text",
    "id": "8jpDpG9g2fdJ"
   },
   "source": [
    "#### 1. 로지스틱 손실 함수 지정하기"
   ]
  },
  {
   "cell_type": "code",
   "execution_count": 0,
   "metadata": {
    "colab": {},
    "colab_type": "code",
    "id": "2alFxV9I2fdK"
   },
   "outputs": [],
   "source": [
    "from sklearn.linear_model import SGDClassifier\n",
    "\n",
    "sgd = SGDClassifier(loss='log', max_iter=100, tol=1e-3, random_state=42)"
   ]
  },
  {
   "cell_type": "markdown",
   "metadata": {
    "colab_type": "text",
    "id": "7eR_rOPt2fdM"
   },
   "source": [
    "|<center>매개변수</center>|<center>설명</center>|\n",
    "|:-------------|:-------------:|\n",
    "|<center>**loss**</center>|<center>손실 함수 지정</center>|\n",
    "|<center>**max_iter(iteration number)**</center>|<center>epochs 수 지정 (기본값 : 5)</center>|\n",
    "|<center>**tol**</center>|<center>지정한 값만큼 감소되지 않으면 반복 중단</center>|\n",
    "|<center>**random_state**</center>|<center>에포크만큼 반복 실행할때마다 사용할 데이터가 동일하게 재현되도록 하는 난수 초깃값</center>|"
   ]
  },
  {
   "cell_type": "markdown",
   "metadata": {
    "colab_type": "text",
    "id": "_Jj8m2VK2fdN"
   },
   "source": [
    "- 만약 tol 값을 설정하지 않으면? max_iter 값을 늘리라는 경고가 발생\n",
    "    - 모델의 로지스틱 손실 함수의 값이 최적값으로 수렴할 정도로 충분한 반복 횟수를 입력했는지 사용자에게 알려주므로 유용하다."
   ]
  },
  {
   "cell_type": "markdown",
   "metadata": {
    "colab_type": "text",
    "id": "opYhXdp72fdO"
   },
   "source": [
    "#### 2. 사이킷런으로 훈련하고 평가하기"
   ]
  },
  {
   "cell_type": "markdown",
   "metadata": {
    "colab_type": "text",
    "id": "UYHJlqDj2fdR"
   },
   "source": [
    "- 사이킷런의 SGDClassifier 클래스에는 04-6에서 직접 구현한 메서드가 이미 준비되어있다. (사이킷런의 라이브러리...)"
   ]
  },
  {
   "cell_type": "code",
   "execution_count": 0,
   "metadata": {
    "colab": {
     "base_uri": "https://localhost:8080/",
     "height": 36
    },
    "colab_type": "code",
    "id": "_Od1uDO72fdS",
    "outputId": "3d4a510e-09c3-4d9c-88f3-495650e2f6d8"
   },
   "outputs": [
    {
     "data": {
      "text/plain": [
       "0.8333333333333334"
      ]
     },
     "execution_count": 11,
     "metadata": {
      "tags": []
     },
     "output_type": "execute_result"
    }
   ],
   "source": [
    "sgd.fit(x_train, y_train) # 사이킷런의 fit() 메서드로 훈련\n",
    "sgd.score(x_test, y_test) # 사이킷런의 score() 메서드로 정확도 계산"
   ]
  },
  {
   "cell_type": "markdown",
   "metadata": {
    "colab_type": "text",
    "id": "yTcjMC0f2fdU"
   },
   "source": [
    "#### 3. 사이킷런으로 예측하기"
   ]
  },
  {
   "cell_type": "markdown",
   "metadata": {
    "colab_type": "text",
    "id": "iFHe2BKo2fdV"
   },
   "source": [
    "- 사이킷런은 입력 데이터로 2차원 배열만 받아들이므로 샘플 하나를 주입하더라도 2차원 배열로 만들어야 한다.\n",
    "    - 배열의 슬라이싱을 사용해 테스트 세트에서 10개의 샘플만 뽑아 예측을 만듦"
   ]
  },
  {
   "cell_type": "code",
   "execution_count": 0,
   "metadata": {
    "colab": {
     "base_uri": "https://localhost:8080/",
     "height": 36
    },
    "colab_type": "code",
    "id": "Koj84neK2fdW",
    "outputId": "8d134f75-d670-4bee-b0c5-aebb0e2c3dc1"
   },
   "outputs": [
    {
     "data": {
      "text/plain": [
       "array([0, 1, 0, 0, 0, 0, 1, 0, 0, 0])"
      ]
     },
     "execution_count": 12,
     "metadata": {
      "tags": []
     },
     "output_type": "execute_result"
    }
   ],
   "source": [
    "sgd.predict(x_test[:10]) # 사이킷런의 predict() 메서드로 테스트 세트에 대한 예측"
   ]
  },
  {
   "cell_type": "code",
   "execution_count": 0,
   "metadata": {
    "colab": {
     "base_uri": "https://localhost:8080/",
     "height": 36
    },
    "colab_type": "code",
    "id": "l_vWrllt2fdY",
    "outputId": "92a6449b-2e99-4bd9-9c3c-281d1bbb08d7"
   },
   "outputs": [
    {
     "data": {
      "text/plain": [
       "array([0, 1, 0, 1, 0, 1, 1, 0, 0, 0])"
      ]
     },
     "execution_count": 13,
     "metadata": {
      "tags": []
     },
     "output_type": "execute_result"
    }
   ],
   "source": [
    "y_test[:10]"
   ]
  },
  {
   "cell_type": "code",
   "execution_count": 0,
   "metadata": {
    "colab": {
     "base_uri": "https://localhost:8080/",
     "height": 36
    },
    "colab_type": "code",
    "id": "AbWq05pK2fda",
    "outputId": "6d55e806-f667-44ce-cf90-c0fb269fa830"
   },
   "outputs": [
    {
     "data": {
      "text/plain": [
       "0.8"
      ]
     },
     "execution_count": 14,
     "metadata": {
      "tags": []
     },
     "output_type": "execute_result"
    }
   ],
   "source": [
    "np.mean(sgd.predict(x_test[:10]) == y[:10]) # 예측 결과와 실제 타깃을 비교"
   ]
  }
 ],
 "metadata": {
  "colab": {
   "collapsed_sections": [
    "WPrfS_ov2fcO",
    "nvOuUftA2fcQ",
    "_rp9zSS82fcz",
    "EE97x2_A2fc6",
    "uNyxtRQM2fdC",
    "qVx4OjqG2fdG",
    "8jpDpG9g2fdJ",
    "opYhXdp72fdO",
    "yTcjMC0f2fdU"
   ],
   "name": "04-6, 04-7.ipynb의 사본",
   "provenance": []
  },
  "kernelspec": {
   "display_name": "Python 3",
   "language": "python",
   "name": "python3"
  },
  "language_info": {
   "codemirror_mode": {
    "name": "ipython",
    "version": 3
   },
   "file_extension": ".py",
   "mimetype": "text/x-python",
   "name": "python",
   "nbconvert_exporter": "python",
   "pygments_lexer": "ipython3",
   "version": "3.7.3"
  }
 },
 "nbformat": 4,
 "nbformat_minor": 1
}
