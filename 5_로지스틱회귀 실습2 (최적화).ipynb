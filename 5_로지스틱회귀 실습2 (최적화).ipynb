{
 "cells": [
  {
   "cell_type": "markdown",
   "metadata": {},
   "source": [
    "# 단일층 신경망"
   ]
  },
  {
   "cell_type": "markdown",
   "metadata": {},
   "source": [
    "- 딥러닝에서 사용되는 '심층 신경망'은 머신러닝의 알고리즘 중 '인공 신경망'에 속함\n",
    "- '심층 신경망'은 '인공 신경망'에서 은닉층의 개수가 1개 이상인 네트워크를 의미\n",
    "- 지난 자료에서 구현한 로지스틱 회귀 뉴런에 몇 가지 기능을 추가하여 단일층 신경망으로 확장할 것"
   ]
  },
  {
   "cell_type": "code",
   "execution_count": 1,
   "metadata": {},
   "outputs": [],
   "source": [
    "#지난 자료에서 구현한 로지스틱 회귀 뉴런\n",
    "import numpy as np\n",
    "\n",
    "class LogisticNeuron:\n",
    "\n",
    "    def __init__(self):\n",
    "        self.w = None\n",
    "        self.b = None\n",
    "\n",
    "    def forpass(self, x):\n",
    "        z = np.sum(x*self.w) + self.b # 가중치와 입력 특성의 곱을 모두 더하기 위해 np.sum()함수 사용\n",
    "        return z\n",
    "\n",
    "    def backprop(self, x, err):\n",
    "        w_grad = x*err #가중치에 대한 그레디언트를 계산함\n",
    "        b_grad = 1*err #절편에 대한 그레디언트를 계산함\n",
    "        return w_grad, b_grad\n",
    "\n",
    "    def fit(self, x, y, epochs = 100):\n",
    "        self.w = np.ones(x.shape[1])\n",
    "        self.b = 0\n",
    "        for i in range(epochs):\n",
    "            for x_i, y_i in zip(x,y):\n",
    "                z = self.forpass(x_i)\n",
    "                a = self.activation(z)\n",
    "                err = -(y_i - a)\n",
    "                w_grad, b_grad = self.backprop(x_i, err)\n",
    "                self.w -= w_grad\n",
    "                self.b -= b_grad\n",
    "\n",
    "    def activation(self,z):\n",
    "        a = 1/(1+np.exp(-z)) #시그모이드 계산\n",
    "        return a\n",
    "\n",
    "    def predict(self, x):\n",
    "        z = [self.forpass(x_i) for x_i in x] #선형함수 적용\n",
    "        a = self.activation(np.array(z)) #활성화 함수 적용\n",
    "        return a > 0.5"
   ]
  },
  {
   "cell_type": "code",
   "execution_count": 2,
   "metadata": {},
   "outputs": [
    {
     "name": "stdout",
     "output_type": "stream",
     "text": [
      "(455, 30) (114, 30)\n"
     ]
    }
   ],
   "source": [
    "#지난 자료와 같은 데이터 사용\n",
    "from sklearn.datasets import load_breast_cancer\n",
    "from sklearn.model_selection import train_test_split\n",
    "\n",
    "cancer = load_breast_cancer()\n",
    "x = cancer.data\n",
    "y = cancer.target\n",
    "\n",
    "x_train, x_test, y_train, y_test = train_test_split(x, y, stratify = y, test_size = 0.2, random_state = 42)\n",
    "print(x_train.shape, x_test.shape)"
   ]
  },
  {
   "cell_type": "markdown",
   "metadata": {},
   "source": [
    "### 로지스틱 회귀 뉴런 최적화\n",
    "\n",
    "#### fit() 메서드\n",
    "\n",
    "- 손실함수 누적합의 방법으로 결과값을 관찰할 것\n",
    "- 매 에포크마다 훈련 세트의 순서를 섞는 킥을 더할 것"
   ]
  },
  {
   "cell_type": "code",
   "execution_count": 3,
   "metadata": {},
   "outputs": [],
   "source": [
    "def __init__(self):\n",
    "    self.w = None\n",
    "    self.b = None\n",
    "    self.losses = [] #new!\n",
    "    \n",
    "# 다른 메서드 생략\n",
    "\n",
    "def fit(self, x, y, epochs=100):\n",
    "        self.w = np.ones(x.shape[1])\n",
    "        self.b = 0\n",
    "        for i in range(epochs):\n",
    "            loss = 0\n",
    "            indexes = np.random.permutation(np.arange(len(x))) #new! #매 에포크마다 훈련 세트의 순서 섞음\n",
    "            for i in indexes: #인덱스로 접근\n",
    "                z = self.forpass(x[i])\n",
    "                a = self.activation(z)\n",
    "                err = -(y[i] - a)\n",
    "                w_grad, b_grad = self.backprop(x[i], err)\n",
    "                self.w -= w_grad\n",
    "                self.b -= b_grad\n",
    "                a = np.clip(a, 1e-10, 1-1e-10) #로그 계산을 위해 양 극의 값을 제해줌\n",
    "                loss += -(y[i] * np.log(a) + (1-y[i]) * np.log(1-a)) #손실의 누적합\n",
    "            self.losses.append(loss/len(y)) #한 에포크의 평균 손실\n",
    "            \n",
    "#np.arrange() 함수는 반 열린구간 [start, stop)에서 step의 크기만큼 일정하게 떨어져있는 숫자들을 array 형태로 반환함\n",
    "#np.random.permutation()은 순열 중 하나를 리턴함\n",
    "#np.random.shuffle()와 같은 역할. shuffle의 결과값도 순열 중 하나이기 때문"
   ]
  },
  {
   "cell_type": "markdown",
   "metadata": {},
   "source": [
    "#### predict() & score() 메서드"
   ]
  },
  {
   "cell_type": "code",
   "execution_count": 4,
   "metadata": {},
   "outputs": [],
   "source": [
    "def predict(self, x):\n",
    "    z = [self.forpass(x_i) for x_i in x]  \n",
    "    return np.array(z) > 0\n",
    "\n",
    "def score(self, x, y):\n",
    "    return np.mean(self.predict(x) == y)"
   ]
  },
  {
   "cell_type": "markdown",
   "metadata": {},
   "source": [
    "### 구현 내용 한 눈에 보기"
   ]
  },
  {
   "cell_type": "code",
   "execution_count": 5,
   "metadata": {},
   "outputs": [],
   "source": [
    "class SingleLayer:\n",
    "    \n",
    "    def __init__(self):\n",
    "        self.w = None\n",
    "        self.b = None\n",
    "        self.losses = []\n",
    "    \n",
    "    def forpass(self, x):\n",
    "        z = np.sum(x * self.w) + self.b\n",
    "        return z\n",
    "    \n",
    "    def backprop(self, x, err):\n",
    "        w_grad = x * err\n",
    "        b_grad = 1 * err\n",
    "        return w_grad, b_grad\n",
    "    \n",
    "    def add_bias(self, x):\n",
    "        return np.c_[np.ones((x.shape[0], 1), x)] #1로 채워진 길이 x의 열 벡터를 추가함\n",
    "    \n",
    "    def activation(self, z):\n",
    "        a = 1 / (1 + np.exp(-z))\n",
    "        return a\n",
    "    \n",
    "    def fit(self, x, y, epochs=100):\n",
    "        self.w = np.ones(x.shape[1])\n",
    "        self.b = 0\n",
    "        for i in range(epochs):\n",
    "            loss = 0\n",
    "            indexes = np.random.permutation(np.arange(len(x)))\n",
    "            for i in indexes:\n",
    "                z = self.forpass(x[i])\n",
    "                a = self.activation(z)\n",
    "                err = -(y[i] - a)\n",
    "                w_grad, b_grad = self.backprop(x[i], err)\n",
    "                self.w -= w_grad\n",
    "                self.b -= b_grad\n",
    "                a = np.clip(a, 1e-10, 1-1e-10)\n",
    "                loss += -(y[i] * np.log(a) + (1-y[i]) * np.log(1-a))\n",
    "            self.losses.append(loss/len(y))\n",
    "            \n",
    "    def predict(self, x):\n",
    "        z = [self.forpass(x_i) for x_i in x]\n",
    "        return np.array(z) > 0\n",
    "\n",
    "    def score(self, x, y):\n",
    "        return np.mean(self.predict(x) == y)"
   ]
  },
  {
   "cell_type": "markdown",
   "metadata": {},
   "source": [
    "- add_bias() 함수를 이용해 기울기 뿐 아니라 편향의 내용을 추가함"
   ]
  },
  {
   "cell_type": "markdown",
   "metadata": {},
   "source": [
    "### 단일층 신경망 훈련하기"
   ]
  },
  {
   "cell_type": "code",
   "execution_count": 6,
   "metadata": {},
   "outputs": [
    {
     "data": {
      "text/plain": [
       "0.8859649122807017"
      ]
     },
     "execution_count": 6,
     "metadata": {},
     "output_type": "execute_result"
    }
   ],
   "source": [
    "layer = SingleLayer()\n",
    "layer.fit(x_train, y_train)\n",
    "layer.score(x_test, y_test)"
   ]
  },
  {
   "cell_type": "markdown",
   "metadata": {},
   "source": [
    "- 결론: 에포크마다 훈련 세트를 무작위로 섞은 킥이 효과가 좋았다\n",
    "- 킥이 없을 때의 정확도는 0.824였음"
   ]
  },
  {
   "cell_type": "markdown",
   "metadata": {},
   "source": [
    "### 손실함수 누적값 확인하기"
   ]
  },
  {
   "cell_type": "code",
   "execution_count": 10,
   "metadata": {
    "scrolled": true
   },
   "outputs": [
    {
     "data": {
      "image/png": "[encoded data removed]",
      "text/plain": [
       "<Figure size 432x288 with 1 Axes>"
      ]
     },
     "metadata": {
      "needs_background": "light"
     },
     "output_type": "display_data"
    }
   ],
   "source": [
    "import matplotlib.pyplot as plt\n",
    "plt.plot(layer.losses)\n",
    "plt.xlabel('epoch')\n",
    "plt.ylabel('loss')\n",
    "plt.show()"
   ]
  },
  {
   "cell_type": "markdown",
   "metadata": {},
   "source": [
    "- 손실함수의 값이 에포크가 진행됨에 따라 감소하고 있음을 확인 가능\n",
    "- 즉 아래의 그림에서 에포크가 진행됨에 따라 최저점을 향함"
   ]
  },
  {
   "attachments": {
    "R720x0.q80.jpg": {
     "image/jpeg": "[encoded data removed]"
    }
   },
   "cell_type": "markdown",
   "metadata": {},
   "source": [
    "![R720x0.q80.jpg](attachment:R720x0.q80.jpg)"
   ]
  },
  {
   "cell_type": "markdown",
   "metadata": {},
   "source": [
    "### 잠깐__경사하강법의 비교"
   ]
  },
  {
   "cell_type": "markdown",
   "metadata": {},
   "source": [
    "![sgd](https://img1.daumcdn.net/thumb/R1280x0/?scode=mtistory2&fname=https%3A%2F%2Fk.kakaocdn.net%2Fdn%2FoctWe%2FbtqClyGKYFU%2FeL2f8aTZnNKPIjhXdAjDz1%2Fimg.png)"
   ]
  },
  {
   "cell_type": "markdown",
   "metadata": {},
   "source": [
    "\n",
    "- 1. 확률적 경사하강법(SGD, Stochastic Gradient Descent)\n",
    "\n",
    "    - 무작위로 추출한 일부 샘플 데이터를 하나씩 계산하여 가중치를 업데이트 함\n",
    "    - 속도가 빠르고 계산 비용이 적게 듦\n",
    "\n",
    "- 2. 배치 경사하강법(BGD, Batch Gradient Descent)\n",
    "\n",
    "    - 전체 데이터를 사용하여 한 번에 그레디언트를 계산하여 가중치를 업데이트 함\n",
    "    - 수행 시간이 길고 계산 비용이 많이 듦\n",
    "\n",
    "- 3. 미니 배치 경사하강법(mini-Batch Gradient Descent)\n",
    "\n",
    "    - 랜덤 추출한 데이터를 여러 번 나눈 미니 배치로 그레디언트를 계산하여 가중치를 업데이트 함\n",
    "    - 1보다 안정적이고 오차가 작으며, 2보다 빠름\n",
    "    \n",
    "- 즉 이산에 가까운지(SGD), 연속에 가까운지(BGD)로 이해하면 됨 "
   ]
  },
  {
   "cell_type": "markdown",
   "metadata": {},
   "source": [
    "![3gd](https://img1.daumcdn.net/thumb/R1280x0/?scode=mtistory2&fname=https%3A%2F%2Fk.kakaocdn.net%2Fdn%2Fbgycut%2FbtqCjRthlC1%2Fbai13TwOioBKUB2uveySCK%2Fimg.png)"
   ]
  },
  {
   "cell_type": "markdown",
   "metadata": {},
   "source": [
    "- 이산적으로 결과값이 나오니 적절한 때 끊어줘야하므로, 학습 스케줄의 중요도가 큼"
   ]
  },
  {
   "cell_type": "markdown",
   "metadata": {},
   "source": [
    "### 사이킷런 내부 모듈 이용"
   ]
  },
  {
   "cell_type": "code",
   "execution_count": 8,
   "metadata": {},
   "outputs": [],
   "source": [
    "from sklearn.linear_model import SGDClassifier\n",
    "sgd = SGDClassifier(loss = 'log', max_iter = 100, tol=1e-3, random_state = 42)\n",
    "\n",
    "#loss: 손실함수 지정\n",
    "#max_iter: 에포크 수 지정(디폴트 5)\n",
    "#tol: 지정한 만큼 감소되지 않으면 반복 중단, max_iter 값 늘리라는 경고 발생\n",
    "#즉 손실함수의 값이 최적으로 수렴할 정도로 충분한 반복횟수를 입력했는지 사용자에게 알림"
   ]
  },
  {
   "cell_type": "code",
   "execution_count": 9,
   "metadata": {},
   "outputs": [
    {
     "data": {
      "text/plain": [
       "0.8333333333333334"
      ]
     },
     "execution_count": 9,
     "metadata": {},
     "output_type": "execute_result"
    }
   ],
   "source": [
    "#각각 사이킷런의 핏과 스코어 메서드\n",
    "sgd.fit(x_train, y_train)\n",
    "sgd.score(x_test, y_test)\n",
    "\n",
    "#순서를 섞는 킥을 못 쓴 결과, 정확도가 이전보다 떨어짐"
   ]
  }
 ],
 "metadata": {
  "kernelspec": {
   "display_name": "Python 3",
   "language": "python",
   "name": "python3"
  },
  "language_info": {
   "codemirror_mode": {
    "name": "ipython",
    "version": 3
   },
   "file_extension": ".py",
   "mimetype": "text/x-python",
   "name": "python",
   "nbconvert_exporter": "python",
   "pygments_lexer": "ipython3",
   "version": "3.7.3"
  }
 },
 "nbformat": 4,
 "nbformat_minor": 2
}
