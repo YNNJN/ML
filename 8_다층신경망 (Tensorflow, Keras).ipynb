{
  "nbformat": 4,
  "nbformat_minor": 0,
  "metadata": {
    "colab": {
      "name": "다층신경망 (Tensorflow, Keras).ipynb",
      "provenance": [],
      "collapsed_sections": [],
      "include_colab_link": true
    },
    "kernelspec": {
      "name": "python3",
      "display_name": "Python 3"
    }
  },
  "cells": [
    {
      "cell_type": "markdown",
      "metadata": {
        "id": "view-in-github",
        "colab_type": "text"
      },
      "source": [
        "<a href=\"https://colab.research.google.com/github/YNNJN/ML_Bigdata/blob/master/8_%EB%8B%A4%EC%B8%B5%EC%8B%A0%EA%B2%BD%EB%A7%9D%20(Tensorflow%2C%20Keras).ipynb\" target=\"_parent\"><img src=\"https://colab.research.google.com/assets/colab-badge.svg\" alt=\"Open In Colab\"/></a>"
      ]
    },
    {
      "cell_type": "code",
      "metadata": {
        "id": "cXPuHfReYhfI",
        "colab_type": "code",
        "outputId": "967c96fe-6f69-4a15-cfff-4dd8d98032b5",
        "colab": {
          "base_uri": "https://localhost:8080/",
          "height": 119
        }
      },
      "source": [
        "!git clone https://github.com/YNNJN/ML_Bigdata.git"
      ],
      "execution_count": 0,
      "outputs": [
        {
          "output_type": "stream",
          "text": [
            "Cloning into 'ML_Bigdata'...\n",
            "remote: Enumerating objects: 63, done.\u001b[K\n",
            "remote: Counting objects:   1% (1/63)\u001b[K\rremote: Counting objects:   3% (2/63)\u001b[K\rremote: Counting objects:   4% (3/63)\u001b[K\rremote: Counting objects:   6% (4/63)\u001b[K\rremote: Counting objects:   7% (5/63)\u001b[K\rremote: Counting objects:   9% (6/63)\u001b[K\rremote: Counting objects:  11% (7/63)\u001b[K\rremote: Counting objects:  12% (8/63)\u001b[K\rremote: Counting objects:  14% (9/63)\u001b[K\rremote: Counting objects:  15% (10/63)\u001b[K\rremote: Counting objects:  17% (11/63)\u001b[K\rremote: Counting objects:  19% (12/63)\u001b[K\rremote: Counting objects:  20% (13/63)\u001b[K\rremote: Counting objects:  22% (14/63)\u001b[K\rremote: Counting objects:  23% (15/63)\u001b[K\rremote: Counting objects:  25% (16/63)\u001b[K\rremote: Counting objects:  26% (17/63)\u001b[K\rremote: Counting objects:  28% (18/63)\u001b[K\rremote: Counting objects:  30% (19/63)\u001b[K\rremote: Counting objects:  31% (20/63)\u001b[K\rremote: Counting objects:  33% (21/63)\u001b[K\rremote: Counting objects:  34% (22/63)\u001b[K\rremote: Counting objects:  36% (23/63)\u001b[K\rremote: Counting objects:  38% (24/63)\u001b[K\rremote: Counting objects:  39% (25/63)\u001b[K\rremote: Counting objects:  41% (26/63)\u001b[K\rremote: Counting objects:  42% (27/63)\u001b[K\rremote: Counting objects:  44% (28/63)\u001b[K\rremote: Counting objects:  46% (29/63)\u001b[K\rremote: Counting objects:  47% (30/63)\u001b[K\rremote: Counting objects:  49% (31/63)\u001b[K\rremote: Counting objects:  50% (32/63)\u001b[K\rremote: Counting objects:  52% (33/63)\u001b[K\rremote: Counting objects:  53% (34/63)\u001b[K\rremote: Counting objects:  55% (35/63)\u001b[K\rremote: Counting objects:  57% (36/63)\u001b[K\rremote: Counting objects:  58% (37/63)\u001b[K\rremote: Counting objects:  60% (38/63)\u001b[K\rremote: Counting objects:  61% (39/63)\u001b[K\rremote: Counting objects:  63% (40/63)\u001b[K\rremote: Counting objects:  65% (41/63)\u001b[K\rremote: Counting objects:  66% (42/63)\u001b[K\rremote: Counting objects:  68% (43/63)\u001b[K\rremote: Counting objects:  69% (44/63)\u001b[K\rremote: Counting objects:  71% (45/63)\u001b[K\rremote: Counting objects:  73% (46/63)\u001b[K\rremote: Counting objects:  74% (47/63)\u001b[K\rremote: Counting objects:  76% (48/63)\u001b[K\rremote: Counting objects:  77% (49/63)\u001b[K\rremote: Counting objects:  79% (50/63)\u001b[K\rremote: Counting objects:  80% (51/63)\u001b[K\rremote: Counting objects:  82% (52/63)\u001b[K\rremote: Counting objects:  84% (53/63)\u001b[K\rremote: Counting objects:  85% (54/63)\u001b[K\rremote: Counting objects:  87% (55/63)\u001b[K\rremote: Counting objects:  88% (56/63)\u001b[K\rremote: Counting objects:  90% (57/63)\u001b[K\rremote: Counting objects:  92% (58/63)\u001b[K\rremote: Counting objects:  93% (59/63)\u001b[K\rremote: Counting objects:  95% (60/63)\u001b[K\rremote: Counting objects:  96% (61/63)\u001b[K\rremote: Counting objects:  98% (62/63)\u001b[K\rremote: Counting objects: 100% (63/63)\u001b[K\rremote: Counting objects: 100% (63/63), done.\u001b[K\n",
            "remote: Compressing objects: 100% (58/58), done.\u001b[K\n",
            "remote: Total 63 (delta 26), reused 0 (delta 0), pack-reused 0\u001b[K\n",
            "Unpacking objects: 100% (63/63), done.\n"
          ],
          "name": "stdout"
        }
      ]
    },
    {
      "cell_type": "code",
      "metadata": {
        "id": "rfgHFPjRYkJU",
        "colab_type": "code",
        "outputId": "624bc35c-68e9-4e24-d626-69d6292f1103",
        "colab": {
          "base_uri": "https://localhost:8080/",
          "height": 97
        }
      },
      "source": [
        "!ls -ltr"
      ],
      "execution_count": 0,
      "outputs": [
        {
          "output_type": "stream",
          "text": [
            "total 8\n",
            "drwxr-xr-x 1 root root 4096 Mar 18 16:23 sample_data\n",
            "drwxr-xr-x 3 root root 4096 Mar 22 12:11 ML_Bigdata\n"
          ],
          "name": "stdout"
        }
      ]
    },
    {
      "cell_type": "code",
      "metadata": {
        "id": "7Cmh2jM8Yo6s",
        "colab_type": "code",
        "outputId": "694a4948-7d39-4421-8698-3edc246583bd",
        "colab": {
          "base_uri": "https://localhost:8080/",
          "height": 189
        }
      },
      "source": [
        "from google.colab import drive\n",
        "drive.mount('/content/MLTutorial')"
      ],
      "execution_count": 0,
      "outputs": [
        {
          "output_type": "stream",
          "text": [
            "Go to this URL in a browser: https://accounts.google.com/o/oauth2/auth?client_id=947318989803-6bn6qk8qdgf4n4g3pfee6491hc0brc4i.apps.googleusercontent.com&redirect_uri=urn%3aietf%3awg%3aoauth%3a2.0%3aoob&response_type=code&scope=email%20https%3a%2f%2fwww.googleapis.com%2fauth%2fdocs.test%20https%3a%2f%2fwww.googleapis.com%2fauth%2fdrive%20https%3a%2f%2fwww.googleapis.com%2fauth%2fdrive.photos.readonly%20https%3a%2f%2fwww.googleapis.com%2fauth%2fpeopleapi.readonly\n",
            "\n",
            "Enter your authorization code:\n",
            "··········\n",
            "Mounted at /content/MLTutorial\n"
          ],
          "name": "stdout"
        }
      ]
    },
    {
      "cell_type": "markdown",
      "metadata": {
        "id": "Q0xpSO5hcSPp",
        "colab_type": "text"
      },
      "source": [
        "# 다중 분류 신경망\n",
        "\n",
        "- multiclass classification neural network\n",
        "- softmax function, cross entropy loss function을 사용\n",
        "- 마지막 출력층에 분류할 클래스만큼 뉴런을 배치함\n",
        "- 즉 이진분류는 양성 클래스에 대한 확률 하나만 출력하고, 다중 분류는 각 클래스에 대한 확률값을 출력함"
      ]
    },
    {
      "cell_type": "markdown",
      "metadata": {
        "id": "pQ_mBwouc7CD",
        "colab_type": "text"
      },
      "source": [
        "### 다중 분류의 문제점\n",
        "- 활성화 출력의 합이 1이 아니면 비교하기 어려움\n",
        "- 따라서 소프트맥스 함수를 적용해 출력 강도를 정규화함\n",
        "    - 출력이 늘어나는만큼 분모의 지수 함수가 늘어남\n",
        "- 이를 통해 다중 분류에서 출력층을 통과한 값들은 소프트맥스 함수를 거치며 적절함 확률값으로 변함"
      ]
    },
    {
      "cell_type": "markdown",
      "metadata": {
        "id": "cvRkeW2Qdn9S",
        "colab_type": "text"
      },
      "source": [
        "# 크로스 엔트로피 손실 함수\n",
        "- 로지스틱 손실 함수의 일반화 버전\n",
        "\n",
        "![mathematical expression](https://img1.daumcdn.net/thumb/R1280x0/?scode=mtistory2&fname=https%3A%2F%2Fk.kakaocdn.net%2Fdn%2FAysJk%2FbtqCSfM6V7A%2Ff7yKR5SuhDwIP4l2eVyIUk%2Fimg.jpg)\n",
        "\n",
        "\n",
        "#### 왜 크로스 엔트로피를 쓸까?\n",
        "[참조_설진석님 블로그](https://theeluwin.postype.com/post/6080524)\n",
        "- 딥러닝의 목표는 자연에 있는 어떠한 진분포를, 신경망이 표현해줄 가짜분포를 사용해서 모사하고 싶고, 얼마나 모사를 잘 했는지는 KL-발산이 얼마나 낮은가로 표현할 수 있으며, 분류 문제에선 진분포가 특이한 모양이라 크로스 엔트로피를 사용해도 동일한 값이 나옴\n",
        "- 꼭 크로스 엔트로피의 형태를 고집하는 이유는 젠센 부등식으로 분포 p를 이용해서 기댓값을 걸어주는 방식으로 확인 가능\n",
        "    - CE(Xa, Ya) = f(sigma(p(c)q(c))\n",
        "    - 분포 p와 q가 같은 사건일 때 확률값(곱셈공식 -> 덧셈공식), 즉 Xa와 Ya가 같은 값을 가질 확률, 위의 식 = f(P(Xa = Ya)\n",
        "- 최종 식은 e^(CE(Xa, Ya) <= P(Xa, Ya)\n",
        "    - 즉 두 랜덤 변수가 같을 확률의 최소값!!\n",
        "    - 진짜 클래스 번호인 Xa, 모델이 예측한 클래스 번호 Ya, 이 둘이 같을 확률은 바로 정답을 맞췄을 확률의 하한을 의미\n",
        "    - 정답률에 하한이 있다는 것이고, 그 하한이 바로 크로스 엔트로피에 의해 결정됨\n",
        "    - 하한이 있다는 것은 정답률을 어느정도 보장한다는 것\n",
        "    - 손실 함수 값이 1이 나온다면 현재 정답률이 1/e 즉 36%는 되는구나 (손실함수 값의 단위가 중요한 이유이기도)\n",
        "- 지수함수의 꼴을 생각하면, 크로스 엔트로피 값이 작을수록 좌변이 커짐\n",
        "    - 크로스 엔트로피가 0이 되는 순간 -> 좌변이 1이 됨\n",
        "    - 이 때 두 랜덤변수가 같은 값을 가질 확률 역시 1이 됨\n",
        "    - 이는 진분포를 완벽하게 모사해낸 순간이 됨"
      ]
    },
    {
      "cell_type": "markdown",
      "metadata": {
        "id": "26NBcr1Se5Mx",
        "colab_type": "text"
      },
      "source": [
        "### 활성화 함수 사용 이유\n",
        "- 데이터를 비선형으로 바꾸기 위해 (현실의 데이터는 n차원 비선형 분포로 존재함)\n",
        "\n",
        "### sigmoid function의 문제점\n",
        "- x값의 변화량 대비 y값의 변화량이 작아 학습이 더디게 진행됨\n",
        "- 깊이가 깊어질수록 데이터의 양극화가 심해지고 결과값이 항상 양수라 backprop으로 학습할 시 gradient 값이 부호 편향적\n",
        "- 1보다 항상 작기 때문에 신경망이 깊어질수록 끝없이 작아짐\n",
        "- 지수함수를 사용하여 계산이 오래 걸림"
      ]
    },
    {
      "cell_type": "markdown",
      "metadata": {
        "id": "vpWNcOlNfiEC",
        "colab_type": "text"
      },
      "source": [
        "### 경사하강법 적용 위해 크로스 엔트로피 손실함수 미분\n",
        "- 분류 문제에서 타깃의 합은 정답 타깃이 1이고 나머지는 0이므로 항상 1\n",
        "- 크로스 엔트로피 손실 함수의 미분 결과는 dL/dz = -(y-a)\n",
        "- 로지스틱 손실함수의 미분과 정확히 일치함"
      ]
    },
    {
      "cell_type": "markdown",
      "metadata": {
        "id": "YxDwjYNugVkx",
        "colab_type": "text"
      },
      "source": [
        "### 다중분류신경망 구현하기\n",
        "- 이진분류 알고리즘에 소프트맥스 함수만 추가\n",
        "- MinibatchNetwork class를 확장하여 구현함"
      ]
    },
    {
      "cell_type": "code",
      "metadata": {
        "id": "osoznTSLdkyI",
        "colab_type": "code",
        "colab": {}
      },
      "source": [
        "#소프트맥스 함수 추가하기\n",
        "import numpy as np\n",
        "def sigmoid(self, z):\n",
        "        a = 1 / (1 + np.exp(-z))\n",
        "        return a\n",
        "    \n",
        "def softmax(self, z):\n",
        "        # 소프트맥스 함수\n",
        "        exp_z = np.exp(z)\n",
        "        return exp_z / np.sum(exp_z, axis=1).reshape(-1, 1) #axis=1 => 1기준"
      ],
      "execution_count": 0,
      "outputs": []
    },
    {
      "cell_type": "code",
      "metadata": {
        "id": "vLnuWRBwgtjG",
        "colab_type": "code",
        "colab": {}
      },
      "source": [
        "#가중치 초기화하기\n",
        "def init_weights(self, n_features, n_classes):\n",
        "        ...\n",
        "        self.w2 = np.random.normal(0, 1, (self.units, n_classes))   #(은닉층의 크기, 클래스 개수)\n",
        "        self.b2 = np.zeros(n_classes) #0으로 초기화"
      ],
      "execution_count": 0,
      "outputs": []
    },
    {
      "cell_type": "code",
      "metadata": {
        "id": "Rtx9ECtGhNSe",
        "colab_type": "code",
        "colab": {}
      },
      "source": [
        "#fit() 수정\n",
        "def fit(self, x, y, epochs=100, x_val=None, y_val=None):\n",
        "        np.random.seed(42)\n",
        "        self.init_weights(x.shape[1], y.shape[1]) #클래스의 개수를 매개변수 값으로 넘겨줌\n",
        "\n",
        "        for i in range(epochs):\n",
        "            loss = 0\n",
        "            print('.', end='') #학습이 돌아가고있는지 확인하는 용도, 케라스에는 기본으로 내장된 기능\n",
        "            for x_batch, y_batch in self.gen_batch(x, y):\n",
        "                a = self.training(x_batch, y_batch)\n",
        "                a = np.clip(a, 1e-10, 1-1e-10)\n",
        "                loss += np.sum(-y_batch*np.log(a))\n",
        "            self.losses.append((loss + self.reg_loss()) / len(x))\n",
        "            self.update_val_loss(x_val, y_val)"
      ],
      "execution_count": 0,
      "outputs": []
    },
    {
      "cell_type": "code",
      "metadata": {
        "id": "zDutE4t1hyo1",
        "colab_type": "code",
        "colab": {}
      },
      "source": [
        "#predict() 수정\n",
        "#출력층에서 계산된 선형계산만으로 클래스 예측 가능\n",
        "def predict(self, x):\n",
        "        z = self.forpass(x)\n",
        "        return np.argmax(z, axis=1)  #정방향 출력 중 가장 큰 값의 인덱스를 반환, 이를 추후 예측 클래스로 사용함"
      ],
      "execution_count": 0,
      "outputs": []
    },
    {
      "cell_type": "code",
      "metadata": {
        "id": "5GbijvcPiULE",
        "colab_type": "code",
        "colab": {}
      },
      "source": [
        "#score() 수정\n",
        "def score(self, x, y):\n",
        "        return np.mean(self.predict(x) == np.argmax(y, axis=1)) #예측과 타깃의 열 벡터 비교"
      ],
      "execution_count": 0,
      "outputs": []
    },
    {
      "cell_type": "code",
      "metadata": {
        "id": "mgXznjKQiqfo",
        "colab_type": "code",
        "colab": {}
      },
      "source": [
        "#검증손실 계산하기\n",
        "#활성화함수 적용하고, 크로스엔트로피와 규제 손실을 더해 리스트에 추가함\n",
        "def update_val_loss(self, x_val, y_val):\n",
        "        ...\n",
        "        a = self.softmax(z)\n",
        "        ...\n",
        "        val_loss = np.sum(-y_val*np.log(a))\n",
        "        ..."
      ],
      "execution_count": 0,
      "outputs": []
    },
    {
      "cell_type": "code",
      "metadata": {
        "id": "qowysQv5jGqx",
        "colab_type": "code",
        "colab": {}
      },
      "source": [
        "#전체 코드\n",
        "class MultiClassNetwork:\n",
        "    \n",
        "    def __init__(self, units=10, batch_size=32, learning_rate=0.1, l1=0, l2=0):\n",
        "        self.units = units\n",
        "        self.batch_size = batch_size\n",
        "        self.w1 = None\n",
        "        self.b1 = None\n",
        "        self.w2 = None\n",
        "        self.b2 = None\n",
        "        self.a1 = None\n",
        "        self.losses = []\n",
        "        self.val_losses = []\n",
        "        self.lr = learning_rate\n",
        "        self.l1 = l1\n",
        "        self.l2 = l2\n",
        "\n",
        "    def forpass(self, x):\n",
        "        z1 = np.dot(x, self.w1) + self.b1 #첫번째 층의 선형 식 계산\n",
        "        self.a1 = self.sigmoid(z1)\n",
        "        z2 = np.dot(self.a1, self.w2) + self.b2  #두번째 층의 선형식 계산\n",
        "        return z2\n",
        "\n",
        "    def backprop(self, x, err):\n",
        "        m = len(x) #샘플 개수\n",
        "        w2_grad = np.dot(self.a1.T, err) / m\n",
        "        b2_grad = np.sum(err) / m\n",
        "        err_to_hidden = np.dot(err, self.w2.T) * self.a1 * (1 - self.a1)\n",
        "        w1_grad = np.dot(x.T, err_to_hidden) / m\n",
        "        b1_grad = np.sum(err_to_hidden, axis=0) / m\n",
        "        return w1_grad, b1_grad, w2_grad, b2_grad\n",
        "    \n",
        "    def sigmoid(self, z):\n",
        "        a = 1 / (1 + np.exp(-z))\n",
        "        return a\n",
        "    \n",
        "    def softmax(self, z):\n",
        "        exp_z = np.exp(z)\n",
        "        return exp_z / np.sum(exp_z, axis=1).reshape(-1, 1)\n",
        " \n",
        "    def init_weights(self, n_features, n_classes):\n",
        "        self.w1 = np.random.normal(0, 1, (n_features, self.units))\n",
        "        self.b1 = np.zeros(self.units)\n",
        "        self.w2 = np.random.normal(0, 1, (self.units, n_classes))\n",
        "        self.b2 = np.zeros(n_classes)\n",
        "        \n",
        "    def fit(self, x, y, epochs=100, x_val=None, y_val=None):\n",
        "        np.random.seed(42)\n",
        "        self.init_weights(x.shape[1], y.shape[1])\n",
        "\n",
        "        for i in range(epochs):\n",
        "            loss = 0\n",
        "            print('.', end='')\n",
        "            for x_batch, y_batch in self.gen_batch(x, y):\n",
        "                a = self.training(x_batch, y_batch)\n",
        "                a = np.clip(a, 1e-10, 1-1e-10)\n",
        "                loss += np.sum(-y_batch*np.log(a))\n",
        "            self.losses.append((loss + self.reg_loss()) / len(x))\n",
        "            self.update_val_loss(x_val, y_val)\n",
        "\n",
        "    def gen_batch(self, x, y):\n",
        "        length = len(x)\n",
        "        bins = length // self.batch_size #미니배치 횟수\n",
        "        if length % self.batch_size:\n",
        "            bins += 1\n",
        "        indexes = np.random.permutation(np.arange(len(x)))\n",
        "        x = x[indexes]\n",
        "        y = y[indexes]\n",
        "        for i in range(bins):\n",
        "            start = self.batch_size * i\n",
        "            end = self.batch_size * (i + 1)\n",
        "            yield x[start:end], y[start:end]   #batch_size만큼 슬라이싱하여 반환\n",
        "            \n",
        "    def training(self, x, y):\n",
        "        m = len(x) #샘플 개수\n",
        "        z = self.forpass(x)\n",
        "        a = self.softmax(z)\n",
        "        err = -(y - a)\n",
        "        w1_grad, b1_grad, w2_grad, b2_grad = self.backprop(x, err)\n",
        "        w1_grad += (self.l1 * np.sign(self.w1) + self.l2 * self.w1) / m\n",
        "        w2_grad += (self.l1 * np.sign(self.w2) + self.l2 * self.w2) / m\n",
        "        self.w1 -= self.lr * w1_grad\n",
        "        self.b1 -= self.lr * b1_grad\n",
        "        self.w2 -= self.lr * w2_grad\n",
        "        self.b2 -= self.lr * b2_grad\n",
        "        return a\n",
        "   \n",
        "    def predict(self, x):\n",
        "        z = self.forpass(x)\n",
        "        return np.argmax(z, axis=1)\n",
        "    \n",
        "    def score(self, x, y):\n",
        "        return np.mean(self.predict(x) == np.argmax(y, axis=1))\n",
        "\n",
        "    def reg_loss(self):\n",
        "        return self.l1 * (np.sum(np.abs(self.w1)) + np.sum(np.abs(self.w2))) + \\\n",
        "               self.l2 / 2 * (np.sum(self.w1**2) + np.sum(self.w2**2))\n",
        "\n",
        "    def update_val_loss(self, x_val, y_val):\n",
        "        z = self.forpass(x_val)\n",
        "        a = self.softmax(z)\n",
        "        a = np.clip(a, 1e-10, 1-1e-10)\n",
        "        val_loss = np.sum(-y_val*np.log(a))\n",
        "        self.val_losses.append((val_loss + self.reg_loss()) / len(y_val))"
      ],
      "execution_count": 0,
      "outputs": []
    },
    {
      "cell_type": "markdown",
      "metadata": {
        "id": "FXi6cX6wkdPD",
        "colab_type": "text"
      },
      "source": [
        "# 의류 이미지 분류\n",
        "\n",
        "### 훈련 데이터 준비\n",
        "- fashion MNIST 데이터세트 사용\n",
        "- MNIST 데이터베이스란 손으로 쓴 숫자들로 이루어진 대형 데이터베이스를 말함\n",
        "- 다양한 화상처리 시스템을 트레이닝하기 위해 일반적으로 사용됨\n",
        "- [참조_fashion-mnist](https://github.com/zalandoresearch/fashion-mnist)"
      ]
    },
    {
      "cell_type": "code",
      "metadata": {
        "id": "nQHKwo7FkZ__",
        "colab_type": "code",
        "outputId": "df374dce-721b-4b87-a6f8-9fa1dfb2be20",
        "colab": {
          "base_uri": "https://localhost:8080/",
          "height": 97
        }
      },
      "source": [
        "from __future__ import absolute_import, division, print_function, unicode_literals\n",
        "!pip install -q tensorflow-gpu==2.0.0-rc1"
      ],
      "execution_count": 0,
      "outputs": [
        {
          "output_type": "stream",
          "text": [
            "\u001b[K     |████████████████████████████████| 380.5MB 42kB/s \n",
            "\u001b[K     |████████████████████████████████| 501kB 14.7MB/s \n",
            "\u001b[K     |████████████████████████████████| 4.3MB 32.1MB/s \n",
            "\u001b[?25h"
          ],
          "name": "stdout"
        }
      ]
    },
    {
      "cell_type": "code",
      "metadata": {
        "id": "b-lAYQ4fk38V",
        "colab_type": "code",
        "outputId": "eb4f8f0f-b10e-4ffe-de85-5bf732701aa3",
        "colab": {
          "base_uri": "https://localhost:8080/",
          "height": 80
        }
      },
      "source": [
        "import tensorflow as tf"
      ],
      "execution_count": 0,
      "outputs": [
        {
          "output_type": "display_data",
          "data": {
            "text/html": [
              "<p style=\"color: red;\">\n",
              "The default version of TensorFlow in Colab will soon switch to TensorFlow 2.x.<br>\n",
              "We recommend you <a href=\"https://www.tensorflow.org/guide/migrate\" target=\"_blank\">upgrade</a> now \n",
              "or ensure your notebook will continue to use TensorFlow 1.x via the <code>%tensorflow_version 1.x</code> magic:\n",
              "<a href=\"https://colab.research.google.com/notebooks/tensorflow_version.ipynb\" target=\"_blank\">more info</a>.</p>\n"
            ],
            "text/plain": [
              "<IPython.core.display.HTML object>"
            ]
          },
          "metadata": {
            "tags": []
          }
        }
      ]
    },
    {
      "cell_type": "code",
      "metadata": {
        "id": "nDDnrlqKlfm6",
        "colab_type": "code",
        "outputId": "f7a8d22b-88b8-49ec-a48e-3c7a057821ad",
        "colab": {
          "base_uri": "https://localhost:8080/",
          "height": 34
        }
      },
      "source": [
        "tf.__version__"
      ],
      "execution_count": 0,
      "outputs": [
        {
          "output_type": "execute_result",
          "data": {
            "text/plain": [
              "'1.15.0'"
            ]
          },
          "metadata": {
            "tags": []
          },
          "execution_count": 13
        }
      ]
    },
    {
      "cell_type": "code",
      "metadata": {
        "id": "Ttew-F7plmwH",
        "colab_type": "code",
        "outputId": "eebca120-961e-41a4-8136-7e029d7129a1",
        "colab": {
          "base_uri": "https://localhost:8080/",
          "height": 153
        }
      },
      "source": [
        "#데이터세트 불러오기\n",
        "(x_train_all, y_train_all), (x_test, y_test) = tf.keras.datasets.fashion_mnist.load_data()\n",
        "fashion = tf.keras.datasets.fashion_mnist.load_data()"
      ],
      "execution_count": 0,
      "outputs": [
        {
          "output_type": "stream",
          "text": [
            "Downloading data from https://storage.googleapis.com/tensorflow/tf-keras-datasets/train-labels-idx1-ubyte.gz\n",
            "32768/29515 [=================================] - 0s 0us/step\n",
            "Downloading data from https://storage.googleapis.com/tensorflow/tf-keras-datasets/train-images-idx3-ubyte.gz\n",
            "26427392/26421880 [==============================] - 0s 0us/step\n",
            "Downloading data from https://storage.googleapis.com/tensorflow/tf-keras-datasets/t10k-labels-idx1-ubyte.gz\n",
            "8192/5148 [===============================================] - 0s 0us/step\n",
            "Downloading data from https://storage.googleapis.com/tensorflow/tf-keras-datasets/t10k-images-idx3-ubyte.gz\n",
            "4423680/4422102 [==============================] - 0s 0us/step\n"
          ],
          "name": "stdout"
        }
      ]
    },
    {
      "cell_type": "code",
      "metadata": {
        "id": "KF8_L2fAl5h7",
        "colab_type": "code",
        "outputId": "049b2677-5210-434f-d93b-70572ff61c44",
        "colab": {
          "base_uri": "https://localhost:8080/",
          "height": 986
        }
      },
      "source": [
        "#입력 데이터 확인하기\n",
        "print(x_train_all[0])\n",
        "print(y_train_all[0])"
      ],
      "execution_count": 0,
      "outputs": [
        {
          "output_type": "stream",
          "text": [
            "[[  0   0   0   0   0   0   0   0   0   0   0   0   0   0   0   0   0   0\n",
            "    0   0   0   0   0   0   0   0   0   0]\n",
            " [  0   0   0   0   0   0   0   0   0   0   0   0   0   0   0   0   0   0\n",
            "    0   0   0   0   0   0   0   0   0   0]\n",
            " [  0   0   0   0   0   0   0   0   0   0   0   0   0   0   0   0   0   0\n",
            "    0   0   0   0   0   0   0   0   0   0]\n",
            " [  0   0   0   0   0   0   0   0   0   0   0   0   1   0   0  13  73   0\n",
            "    0   1   4   0   0   0   0   1   1   0]\n",
            " [  0   0   0   0   0   0   0   0   0   0   0   0   3   0  36 136 127  62\n",
            "   54   0   0   0   1   3   4   0   0   3]\n",
            " [  0   0   0   0   0   0   0   0   0   0   0   0   6   0 102 204 176 134\n",
            "  144 123  23   0   0   0   0  12  10   0]\n",
            " [  0   0   0   0   0   0   0   0   0   0   0   0   0   0 155 236 207 178\n",
            "  107 156 161 109  64  23  77 130  72  15]\n",
            " [  0   0   0   0   0   0   0   0   0   0   0   1   0  69 207 223 218 216\n",
            "  216 163 127 121 122 146 141  88 172  66]\n",
            " [  0   0   0   0   0   0   0   0   0   1   1   1   0 200 232 232 233 229\n",
            "  223 223 215 213 164 127 123 196 229   0]\n",
            " [  0   0   0   0   0   0   0   0   0   0   0   0   0 183 225 216 223 228\n",
            "  235 227 224 222 224 221 223 245 173   0]\n",
            " [  0   0   0   0   0   0   0   0   0   0   0   0   0 193 228 218 213 198\n",
            "  180 212 210 211 213 223 220 243 202   0]\n",
            " [  0   0   0   0   0   0   0   0   0   1   3   0  12 219 220 212 218 192\n",
            "  169 227 208 218 224 212 226 197 209  52]\n",
            " [  0   0   0   0   0   0   0   0   0   0   6   0  99 244 222 220 218 203\n",
            "  198 221 215 213 222 220 245 119 167  56]\n",
            " [  0   0   0   0   0   0   0   0   0   4   0   0  55 236 228 230 228 240\n",
            "  232 213 218 223 234 217 217 209  92   0]\n",
            " [  0   0   1   4   6   7   2   0   0   0   0   0 237 226 217 223 222 219\n",
            "  222 221 216 223 229 215 218 255  77   0]\n",
            " [  0   3   0   0   0   0   0   0   0  62 145 204 228 207 213 221 218 208\n",
            "  211 218 224 223 219 215 224 244 159   0]\n",
            " [  0   0   0   0  18  44  82 107 189 228 220 222 217 226 200 205 211 230\n",
            "  224 234 176 188 250 248 233 238 215   0]\n",
            " [  0  57 187 208 224 221 224 208 204 214 208 209 200 159 245 193 206 223\n",
            "  255 255 221 234 221 211 220 232 246   0]\n",
            " [  3 202 228 224 221 211 211 214 205 205 205 220 240  80 150 255 229 221\n",
            "  188 154 191 210 204 209 222 228 225   0]\n",
            " [ 98 233 198 210 222 229 229 234 249 220 194 215 217 241  65  73 106 117\n",
            "  168 219 221 215 217 223 223 224 229  29]\n",
            " [ 75 204 212 204 193 205 211 225 216 185 197 206 198 213 240 195 227 245\n",
            "  239 223 218 212 209 222 220 221 230  67]\n",
            " [ 48 203 183 194 213 197 185 190 194 192 202 214 219 221 220 236 225 216\n",
            "  199 206 186 181 177 172 181 205 206 115]\n",
            " [  0 122 219 193 179 171 183 196 204 210 213 207 211 210 200 196 194 191\n",
            "  195 191 198 192 176 156 167 177 210  92]\n",
            " [  0   0  74 189 212 191 175 172 175 181 185 188 189 188 193 198 204 209\n",
            "  210 210 211 188 188 194 192 216 170   0]\n",
            " [  2   0   0   0  66 200 222 237 239 242 246 243 244 221 220 193 191 179\n",
            "  182 182 181 176 166 168  99  58   0   0]\n",
            " [  0   0   0   0   0   0   0  40  61  44  72  41  35   0   0   0   0   0\n",
            "    0   0   0   0   0   0   0   0   0   0]\n",
            " [  0   0   0   0   0   0   0   0   0   0   0   0   0   0   0   0   0   0\n",
            "    0   0   0   0   0   0   0   0   0   0]\n",
            " [  0   0   0   0   0   0   0   0   0   0   0   0   0   0   0   0   0   0\n",
            "    0   0   0   0   0   0   0   0   0   0]]\n",
            "9\n"
          ],
          "name": "stdout"
        }
      ]
    },
    {
      "cell_type": "markdown",
      "metadata": {
        "id": "yAjxHj75qmrY",
        "colab_type": "text"
      },
      "source": [
        "- x_train_all는 0에서 255 사이의 값을 갖는 28x28 크기의 NumPy 어레이를 갖는 어레이, 즉 색을 표현하는 값\n",
        "- y_train_all는 0에서 9까지의 정수 값을 갖는 어레이\n",
        "- 0에서 9까지의 정수 값은 이미지(옷)의 클래스를 나타내는 레이블\n",
        "    - 각각의 레이블과 클래스는 다음과 같음\n",
        "        - 0 : T-shirt/top\n",
        "        - 1 : Trouser\n",
        "        - 2 : Pullover\n",
        "        - 3 : Dress\n",
        "        - 4 : Coat\n",
        "        - 5 : Sandal\n",
        "        - 6 : Shirt\n",
        "        - 7 : Sneaker\n",
        "        - 8 : Bag\n",
        "        - 9 : Ankel boot\n"
      ]
    },
    {
      "cell_type": "code",
      "metadata": {
        "id": "G20_cowNpHkO",
        "colab_type": "code",
        "outputId": "f39207b8-d070-4d92-a9f3-5c5b0fe24041",
        "colab": {
          "base_uri": "https://localhost:8080/",
          "height": 51
        }
      },
      "source": [
        "#훈련세트의 크기 확인하기\n",
        "print(x_train_all.shape, y_train_all.shape)\n",
        "print(x_test.shape, y_test.shape)"
      ],
      "execution_count": 0,
      "outputs": [
        {
          "output_type": "stream",
          "text": [
            "(60000, 28, 28) (60000,)\n",
            "(10000, 28, 28) (10000,)\n"
          ],
          "name": "stdout"
        }
      ]
    },
    {
      "cell_type": "code",
      "metadata": {
        "id": "K9oLvprlrOzy",
        "colab_type": "code",
        "outputId": "aeb9ac6d-ec57-461f-ccfe-7664aa3302e7",
        "colab": {
          "base_uri": "https://localhost:8080/",
          "height": 265
        }
      },
      "source": [
        "#샘플이미지 확인\n",
        "import matplotlib.pyplot as plt\n",
        "plt.imshow(x_train_all[0], cmap='gray')\n",
        "plt.show()"
      ],
      "execution_count": 0,
      "outputs": [
        {
          "output_type": "display_data",
          "data": {
            "image/png": "[encoded data removed]",
            "text/plain": [
              "<Figure size 432x288 with 1 Axes>"
            ]
          },
          "metadata": {
            "tags": []
          }
        }
      ]
    },
    {
      "cell_type": "markdown",
      "metadata": {
        "id": "aGlZWLatrn1x",
        "colab_type": "text"
      },
      "source": [
        "- 맷플롯립 패키지는 colormap을 이용해 이미지를 그리며, cmap 매개변수로 설정 가능\n",
        "- cmap 매개변수의 기본 설정 -> viridis(픽셀을 짙은 녹색에서 밝은 노랑 사이로 표현)\n",
        "- fashion MNIST는 흑백이미지이므로 cmap 매개변수를 gray로 지정\n"
      ]
    },
    {
      "cell_type": "code",
      "metadata": {
        "id": "dvVLViVGrXHO",
        "colab_type": "code",
        "outputId": "cea52a0b-7a7a-47d8-c6db-1fbd22af6632",
        "colab": {
          "base_uri": "https://localhost:8080/",
          "height": 51
        }
      },
      "source": [
        "#타깃 분포 확인\n",
        "print(y_train_all[:10])\n",
        "np.bincount(y_train_all)"
      ],
      "execution_count": 0,
      "outputs": [
        {
          "output_type": "stream",
          "text": [
            "[9 0 0 3 0 2 7 2 5 5]\n"
          ],
          "name": "stdout"
        },
        {
          "output_type": "execute_result",
          "data": {
            "text/plain": [
              "array([6000, 6000, 6000, 6000, 6000, 6000, 6000, 6000, 6000, 6000])"
            ]
          },
          "metadata": {
            "tags": []
          },
          "execution_count": 18
        }
      ]
    },
    {
      "cell_type": "code",
      "metadata": {
        "id": "hLsY3Wb-sQrP",
        "colab_type": "code",
        "colab": {}
      },
      "source": [
        "#훈련세트와 검증세트 고르게 나누기\n",
        "from sklearn.model_selection import train_test_split\n",
        "x_train, x_val, y_train, y_val = train_test_split(x_train_all, y_train_all, stratify=y_train_all, test_size=0.2, random_state=42)"
      ],
      "execution_count": 0,
      "outputs": []
    },
    {
      "cell_type": "code",
      "metadata": {
        "id": "9_Na28wxtEhp",
        "colab_type": "code",
        "outputId": "70b7129b-1261-4f0a-da30-6b2e48b819bf",
        "colab": {
          "base_uri": "https://localhost:8080/",
          "height": 34
        }
      },
      "source": [
        "#확인\n",
        "np.bincount(y_train)\n",
        "np.bincount(y_val)"
      ],
      "execution_count": 0,
      "outputs": [
        {
          "output_type": "execute_result",
          "data": {
            "text/plain": [
              "array([1200, 1200, 1200, 1200, 1200, 1200, 1200, 1200, 1200, 1200])"
            ]
          },
          "metadata": {
            "tags": []
          },
          "execution_count": 20
        }
      ]
    },
    {
      "cell_type": "code",
      "metadata": {
        "id": "jrFD5PlVtKz5",
        "colab_type": "code",
        "colab": {}
      },
      "source": [
        "#데이터 전처리\n",
        "#0에서 255 사이의 값의 데이터를 0에서 1 사이의 값을 갖도록 변환\n",
        "x_train = x_train / 255\n",
        "x_val = x_val / 255"
      ],
      "execution_count": 0,
      "outputs": []
    },
    {
      "cell_type": "code",
      "metadata": {
        "id": "mI5je9Yftea0",
        "colab_type": "code",
        "colab": {}
      },
      "source": [
        "#훈련세트와 검증세트의 차원 변경\n",
        "#28x28 크기의 2차원 배열 샘플을 1차원 배열로 변환\n",
        "#2, 3 차원을 합친 다음 784(28*28)의 길이로 펼침, 즉 이미지의 픽셀을 풀어 한 줄로 이어붙임\n",
        "x_train = x_train.reshape(-1, 784)\n",
        "x_val = x_val.reshape(-1, 784)"
      ],
      "execution_count": 0,
      "outputs": []
    },
    {
      "cell_type": "code",
      "metadata": {
        "id": "okY2Vl8LuLT3",
        "colab_type": "code",
        "outputId": "e7d408bb-e2da-4011-e6cc-80bc8aaec485",
        "colab": {
          "base_uri": "https://localhost:8080/",
          "height": 34
        }
      },
      "source": [
        "#데이터의 차원이 바뀌었는지 확인\n",
        "print(x_train.shape, x_val.shape)"
      ],
      "execution_count": 0,
      "outputs": [
        {
          "output_type": "stream",
          "text": [
            "(48000, 784) (12000, 784)\n"
          ],
          "name": "stdout"
        }
      ]
    },
    {
      "cell_type": "markdown",
      "metadata": {
        "id": "pwriWzcSu-FR",
        "colab_type": "text"
      },
      "source": [
        "### 타깃 데이터 준비\n",
        "\n",
        "- fashion MNIST 데이터세트는 10개의 클래스로 구성되어있으므로, 출력 뉴런의 개수도 10개로 타깃값에 대응되어야\n",
        "- 하지만 y_train, y_val에 저장된 값들은 0~9 사이의 정수값 한 개로 10개의 출력 뉴런에 대응되지 않기 때문에, 타깃 데이터를 변형함\n",
        "- 정답 타깃의 값 => 1, 나머지 타깃의 값 => 0"
      ]
    },
    {
      "cell_type": "markdown",
      "metadata": {
        "id": "O9ejzIQuv3YP",
        "colab_type": "text"
      },
      "source": [
        "#### 1. one-hot encoding\n",
        "- 타깃을 one-hot encoding으로 변환\n",
        "- 타깃의 정수값에 해당하는 원소는 1, 나머지 원소는 모두 0으로 하여 10개의 원소를 가진 배열로 만듦\n",
        "- 이를 통해 타깃값을 가지고있는 1차원 정수 배열 -> 2차원 배열\n",
        "- 단순하게 벡터화할 수 있는 것이 **장점**, 직관적\n",
        "- 타깃 범주가 클수록 크기가 커지는 것이 **단점**\n",
        "\n",
        "#### 2. 배열의 각 원소를 뉴런의 출력값과 비교\n",
        "- 가장 큰 출력값의 인덱스가 타깃과 동일한지 비교함"
      ]
    },
    {
      "cell_type": "code",
      "metadata": {
        "id": "ZpxqD4SouP7-",
        "colab_type": "code",
        "outputId": "6479aa13-b00f-4ae5-adc4-8431a9164541",
        "colab": {
          "base_uri": "https://localhost:8080/",
          "height": 85
        }
      },
      "source": [
        "#사이킷런이 제공하는 원 핫 인코딩 도구, LabelBinarizer() 이용\n",
        "from sklearn.preprocessing import LabelBinarizer\n",
        "lb = LabelBinarizer()\n",
        "lb.fit_transform([0, 1, 3, 1])"
      ],
      "execution_count": 0,
      "outputs": [
        {
          "output_type": "execute_result",
          "data": {
            "text/plain": [
              "array([[1, 0, 0],\n",
              "       [0, 1, 0],\n",
              "       [0, 0, 1],\n",
              "       [0, 1, 0]])"
            ]
          },
          "metadata": {
            "tags": []
          },
          "execution_count": 24
        }
      ]
    },
    {
      "cell_type": "code",
      "metadata": {
        "id": "B3q_k39vyBU1",
        "colab_type": "code",
        "outputId": "0bb98006-cb4c-4d59-cc2c-48cb1e1fdab0",
        "colab": {
          "base_uri": "https://localhost:8080/",
          "height": 68
        }
      },
      "source": [
        "#텐서플로가 제공하는 원 핫 인코딩 도구, to_categorical() 이용\n",
        "#keras.utils 모듈에 존재, 문자열로 된 레이블은 인코딩 x\n",
        "tf.keras.utils.to_categorical([0, 1, 3])"
      ],
      "execution_count": 0,
      "outputs": [
        {
          "output_type": "execute_result",
          "data": {
            "text/plain": [
              "array([[1., 0., 0., 0.],\n",
              "       [0., 1., 0., 0.],\n",
              "       [0., 0., 0., 1.]], dtype=float32)"
            ]
          },
          "metadata": {
            "tags": []
          },
          "execution_count": 25
        }
      ]
    },
    {
      "cell_type": "code",
      "metadata": {
        "id": "E4h838jOybPo",
        "colab_type": "code",
        "outputId": "5f571aba-6a83-48ed-f1f0-3722f3c307ce",
        "colab": {
          "base_uri": "https://localhost:8080/",
          "height": 34
        }
      },
      "source": [
        "#차원 확인\n",
        "#1차원 -> 2차원\n",
        "y_train_encoded = tf.keras.utils.to_categorical(y_train)\n",
        "y_val_encoded = tf.keras.utils.to_categorical(y_val)\n",
        "print(y_train_encoded.shape, y_val_encoded.shape)"
      ],
      "execution_count": 0,
      "outputs": [
        {
          "output_type": "stream",
          "text": [
            "(48000, 10) (12000, 10)\n"
          ],
          "name": "stdout"
        }
      ]
    },
    {
      "cell_type": "code",
      "metadata": {
        "id": "29s7lA2Byq5_",
        "colab_type": "code",
        "outputId": "2eadc6fe-50ba-4d66-c299-17ff3a1d1bcf",
        "colab": {
          "base_uri": "https://localhost:8080/",
          "height": 34
        }
      },
      "source": [
        "#인코딩 제대로 되었는지 확인\n",
        "print(y_train[0], y_train_encoded[0])"
      ],
      "execution_count": 0,
      "outputs": [
        {
          "output_type": "stream",
          "text": [
            "6 [0. 0. 0. 0. 0. 0. 1. 0. 0. 0.]\n"
          ],
          "name": "stdout"
        }
      ]
    },
    {
      "cell_type": "markdown",
      "metadata": {
        "id": "RJk1kWS9y1gS",
        "colab_type": "text"
      },
      "source": [
        "### 다중 분류 신경망 훈련하기\n",
        "- 훈련세트 x_train, y_train_encoded\n",
        "- 검증세트 x_val, y_val_encoded"
      ]
    },
    {
      "cell_type": "code",
      "metadata": {
        "id": "ujfiRk01yx8g",
        "colab_type": "code",
        "outputId": "aeb375d7-3331-4d5d-ece8-ec93a437bb40",
        "colab": {
          "base_uri": "https://localhost:8080/",
          "height": 34
        }
      },
      "source": [
        "#위에서 구현한 MultiClassNetwork 클래스 이용\n",
        "fc = MultiClassNetwork(units=100, batch_size=256)\n",
        "fc.fit(x_train, y_train_encoded, x_val=x_val, y_val=y_val_encoded, epochs=40)"
      ],
      "execution_count": 0,
      "outputs": [
        {
          "output_type": "stream",
          "text": [
            "........................................"
          ],
          "name": "stdout"
        }
      ]
    },
    {
      "cell_type": "code",
      "metadata": {
        "id": "461Z4SsNzGVA",
        "colab_type": "code",
        "outputId": "1c99577b-6ffb-49ea-a961-40548387747b",
        "colab": {
          "base_uri": "https://localhost:8080/",
          "height": 279
        }
      },
      "source": [
        "#훈련 손실, 검증 손실 그래프와 훈련 모델 점수 확인\n",
        "plt.plot(fc.losses)\n",
        "plt.plot(fc.val_losses)\n",
        "plt.ylabel('loss')\n",
        "plt.xlabel('iteration')\n",
        "plt.legend(['train_loss', 'val_loss'])\n",
        "plt.show()"
      ],
      "execution_count": 0,
      "outputs": [
        {
          "output_type": "display_data",
          "data": {
            "image/png": "[encoded data removed]",
            "text/plain": [
              "<Figure size 432x288 with 1 Axes>"
            ]
          },
          "metadata": {
            "tags": []
          }
        }
      ]
    },
    {
      "cell_type": "code",
      "metadata": {
        "id": "XdRUtw1Fzu-h",
        "colab_type": "code",
        "outputId": "86b8407b-4ad7-4ac9-814e-4d28608d4615",
        "colab": {
          "base_uri": "https://localhost:8080/",
          "height": 34
        }
      },
      "source": [
        "fc.score(x_val, y_val_encoded)"
      ],
      "execution_count": 0,
      "outputs": [
        {
          "output_type": "execute_result",
          "data": {
            "text/plain": [
              "0.8150833333333334"
            ]
          },
          "metadata": {
            "tags": []
          },
          "execution_count": 30
        }
      ]
    },
    {
      "cell_type": "code",
      "metadata": {
        "id": "seWM3IgY0iv_",
        "colab_type": "code",
        "outputId": "81f192a9-208e-4de9-d68e-8b327e796f0e",
        "colab": {
          "base_uri": "https://localhost:8080/",
          "height": 882
        }
      },
      "source": [
        "#위 신경망을 케라스로 구현 (간단!)\n",
        "#신경망 모델을 만듦\n",
        "model = tf.keras.models.Sequential()\n",
        "#완전 연결층을 추가\n",
        "model.add(tf.keras.layers.Dense(1))\n",
        "#옵티마이저와 손실 함수를 지정\n",
        "model.compile(optimizer='sgd', loss='mse')\n",
        "#훈련 데이터를 사용하여 에포크 횟수만큼 훈련\n",
        "model.fit(x_train, y_train, epochs=10)"
      ],
      "execution_count": 0,
      "outputs": [
        {
          "output_type": "stream",
          "text": [
            "WARNING:tensorflow:From /tensorflow-1.15.0/python3.6/tensorflow_core/python/ops/resource_variable_ops.py:1630: calling BaseResourceVariable.__init__ (from tensorflow.python.ops.resource_variable_ops) with constraint is deprecated and will be removed in a future version.\n",
            "Instructions for updating:\n",
            "If using Keras pass *_constraint arguments to layers.\n",
            "Train on 48000 samples\n",
            "Epoch 1/10\n",
            "48000/48000 [==============================] - 2s 44us/sample - loss: nan\n",
            "Epoch 2/10\n",
            "48000/48000 [==============================] - 1s 31us/sample - loss: nan\n",
            "Epoch 3/10\n",
            "48000/48000 [==============================] - 1s 31us/sample - loss: nan\n",
            "Epoch 4/10\n",
            "48000/48000 [==============================] - 1s 31us/sample - loss: nan\n",
            "Epoch 5/10\n",
            "48000/48000 [==============================] - 1s 31us/sample - loss: nan\n",
            "Epoch 6/10\n",
            "48000/48000 [==============================] - 1s 30us/sample - loss: nan\n",
            "Epoch 7/10\n",
            "48000/48000 [==============================] - 1s 30us/sample - loss: nan\n",
            "Epoch 8/10\n",
            "48000/48000 [==============================] - 1s 31us/sample - loss: nan\n",
            "Epoch 9/10\n",
            "48000/48000 [==============================] - 2s 32us/sample - loss: nan\n",
            "Epoch 10/10\n",
            "48000/48000 [==============================] - 1s 30us/sample - loss: nan\n"
          ],
          "name": "stdout"
        },
        {
          "output_type": "execute_result",
          "data": {
            "text/plain": [
              "<tensorflow.python.keras.callbacks.History at 0x7f0eb92fa5f8>"
            ]
          },
          "metadata": {
            "tags": []
          },
          "execution_count": 31
        }
      ]
    },
    {
      "cell_type": "markdown",
      "metadata": {
        "id": "yAq1m9D70Dv4",
        "colab_type": "text"
      },
      "source": [
        "# 텐서플로와 케라스로 신경망 만들기\n",
        "\n",
        "### Keras\n",
        "\n",
        "![딥러닝 소프트웨어와 하드웨어 스택.png](data:image/png;base64,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))\n",
        "\n",
        "출처 [케라스 소개](https://tensorflow.blog/%EC%BC%80%EB%9D%BC%EC%8A%A4-%EB%94%A5%EB%9F%AC%EB%8B%9D/3-2-%EC%BC%80%EB%9D%BC%EC%8A%A4-%EC%86%8C%EA%B0%9C/)\n",
        "\n",
        "\n",
        "- 동일한 코드로 CPU와 GPU에서 실행 가능\n",
        "- 어떤 네트워크 구조도 만들 수 있어 어떤 딥러닝 모델에도 적합함\n",
        "- 인공신경망 모델을 만들기 위한 Sequential 클래스(순차적으로 층을 쌓은 신경망 모델)와 완전연결층을 만들기 위한 Dense class(모델에 포함된 완전연결층)를 제공함\n",
        "    - 은닉층과 출력층을 Dense 클래스의 객체로 구성\n",
        "    - 각각의 객체를 Sequential 클래스 객체에 추가\n",
        "    - 층을 명확하게 구분하기 때문에 층의 다른 층으로의 교체가 쉬움\n",
        "    - model = Sequential([Dense(...), ...])"
      ]
    },
    {
      "cell_type": "code",
      "metadata": {
        "id": "Wy3w5H3z4ymF",
        "colab_type": "code",
        "colab": {}
      },
      "source": [
        "#Sequential 객체(모델) 생성\n",
        "from tensorflow.keras import Sequential\n",
        "from tensorflow.keras.layers import Dense\n",
        "model = Sequential()\n",
        "\n",
        "#add() 메서드 사용해 출력층을 모델에 추가\n",
        "model.add(Dense(100, activation='sigmoid', input_shape=(784,)))\n",
        "model.add(Dense(10, activation='softmax'))"
      ],
      "execution_count": 0,
      "outputs": []
    },
    {
      "cell_type": "code",
      "metadata": {
        "id": "f4_Ris9C5Rbc",
        "colab_type": "code",
        "colab": {}
      },
      "source": [
        "#최적화 알고리즘과 손실함수 지정\n",
        "model.compile(optimizer='sgd', loss='categorical_crossentropy', metrics=['accuracy'])"
      ],
      "execution_count": 0,
      "outputs": []
    },
    {
      "cell_type": "markdown",
      "metadata": {
        "id": "k5pzjQ1f1GXx",
        "colab_type": "text"
      },
      "source": [
        "- 훈련의 최적화 알고리즘으로 경사하강법을, 손실함수로 크로스 엔드로피 손실함수를 사용 (compilie() 메서드로 지정)\n",
        "- optimizer는 데이터와 손실 함수를 바탕으로 모델의 가중치와 절편을 업데이트하는 방식을 말함\n",
        "- optimizer 매개변수 값으로 'sgd'를 지정 시 기본으로 경사하강법을 최적화 알고리즘으로 사용함 (이 때 학습률 기본값 = 0.01)"
      ]
    },
    {
      "cell_type": "code",
      "metadata": {
        "id": "zGB6BfmN5_yq",
        "colab_type": "code",
        "outputId": "7ee6360b-5d2f-4b6c-8cc8-497d7c740763",
        "colab": {
          "base_uri": "https://localhost:8080/",
          "height": 1000
        }
      },
      "source": [
        "#모델 훈련하기\n",
        "history = model.fit(x_train, y_train_encoded, epochs=40, validation_data=(x_val, y_val_encoded))"
      ],
      "execution_count": 0,
      "outputs": [
        {
          "output_type": "stream",
          "text": [
            "Train on 48000 samples, validate on 12000 samples\n",
            "Epoch 1/40\n",
            "48000/48000 [==============================] - 3s 60us/sample - loss: 1.3999 - acc: 0.6377 - val_loss: 0.9716 - val_acc: 0.7364\n",
            "Epoch 2/40\n",
            "48000/48000 [==============================] - 3s 60us/sample - loss: 0.8487 - acc: 0.7433 - val_loss: 0.7543 - val_acc: 0.7613\n",
            "Epoch 3/40\n",
            "48000/48000 [==============================] - 3s 59us/sample - loss: 0.7130 - acc: 0.7641 - val_loss: 0.6646 - val_acc: 0.7827\n",
            "Epoch 4/40\n",
            "48000/48000 [==============================] - 3s 59us/sample - loss: 0.6468 - acc: 0.7812 - val_loss: 0.6122 - val_acc: 0.7948\n",
            "Epoch 5/40\n",
            "48000/48000 [==============================] - 3s 60us/sample - loss: 0.6044 - acc: 0.7940 - val_loss: 0.5758 - val_acc: 0.8041\n",
            "Epoch 6/40\n",
            "48000/48000 [==============================] - 3s 59us/sample - loss: 0.5743 - acc: 0.8033 - val_loss: 0.5515 - val_acc: 0.8102\n",
            "Epoch 7/40\n",
            "48000/48000 [==============================] - 3s 60us/sample - loss: 0.5512 - acc: 0.8098 - val_loss: 0.5305 - val_acc: 0.8173\n",
            "Epoch 8/40\n",
            "48000/48000 [==============================] - 3s 59us/sample - loss: 0.5335 - acc: 0.8164 - val_loss: 0.5138 - val_acc: 0.8219\n",
            "Epoch 9/40\n",
            "48000/48000 [==============================] - 3s 60us/sample - loss: 0.5187 - acc: 0.8209 - val_loss: 0.4997 - val_acc: 0.8278\n",
            "Epoch 10/40\n",
            "48000/48000 [==============================] - 3s 59us/sample - loss: 0.5066 - acc: 0.8242 - val_loss: 0.4903 - val_acc: 0.8282\n",
            "Epoch 11/40\n",
            "48000/48000 [==============================] - 3s 60us/sample - loss: 0.4962 - acc: 0.8287 - val_loss: 0.4805 - val_acc: 0.8327\n",
            "Epoch 12/40\n",
            "48000/48000 [==============================] - 3s 60us/sample - loss: 0.4872 - acc: 0.8306 - val_loss: 0.4710 - val_acc: 0.8342\n",
            "Epoch 13/40\n",
            "48000/48000 [==============================] - 3s 60us/sample - loss: 0.4791 - acc: 0.8330 - val_loss: 0.4638 - val_acc: 0.8384\n",
            "Epoch 14/40\n",
            "48000/48000 [==============================] - 3s 59us/sample - loss: 0.4719 - acc: 0.8363 - val_loss: 0.4580 - val_acc: 0.8388\n",
            "Epoch 15/40\n",
            "48000/48000 [==============================] - 3s 58us/sample - loss: 0.4659 - acc: 0.8378 - val_loss: 0.4521 - val_acc: 0.8422\n",
            "Epoch 16/40\n",
            "48000/48000 [==============================] - 3s 59us/sample - loss: 0.4598 - acc: 0.8389 - val_loss: 0.4471 - val_acc: 0.8424\n",
            "Epoch 17/40\n",
            "48000/48000 [==============================] - 3s 58us/sample - loss: 0.4548 - acc: 0.8422 - val_loss: 0.4421 - val_acc: 0.8452\n",
            "Epoch 18/40\n",
            "48000/48000 [==============================] - 3s 60us/sample - loss: 0.4496 - acc: 0.8429 - val_loss: 0.4389 - val_acc: 0.8447\n",
            "Epoch 19/40\n",
            "48000/48000 [==============================] - 3s 59us/sample - loss: 0.4450 - acc: 0.8444 - val_loss: 0.4342 - val_acc: 0.8464\n",
            "Epoch 20/40\n",
            "48000/48000 [==============================] - 3s 60us/sample - loss: 0.4409 - acc: 0.8456 - val_loss: 0.4304 - val_acc: 0.8462\n",
            "Epoch 21/40\n",
            "48000/48000 [==============================] - 3s 60us/sample - loss: 0.4371 - acc: 0.8471 - val_loss: 0.4272 - val_acc: 0.8492\n",
            "Epoch 22/40\n",
            "48000/48000 [==============================] - 3s 59us/sample - loss: 0.4334 - acc: 0.8477 - val_loss: 0.4244 - val_acc: 0.8517\n",
            "Epoch 23/40\n",
            "48000/48000 [==============================] - 3s 60us/sample - loss: 0.4297 - acc: 0.8490 - val_loss: 0.4215 - val_acc: 0.8514\n",
            "Epoch 24/40\n",
            "48000/48000 [==============================] - 3s 59us/sample - loss: 0.4266 - acc: 0.8508 - val_loss: 0.4186 - val_acc: 0.8523\n",
            "Epoch 25/40\n",
            "48000/48000 [==============================] - 3s 59us/sample - loss: 0.4233 - acc: 0.8518 - val_loss: 0.4184 - val_acc: 0.8519\n",
            "Epoch 26/40\n",
            "48000/48000 [==============================] - 3s 60us/sample - loss: 0.4206 - acc: 0.8519 - val_loss: 0.4156 - val_acc: 0.8532\n",
            "Epoch 27/40\n",
            "48000/48000 [==============================] - 3s 59us/sample - loss: 0.4174 - acc: 0.8530 - val_loss: 0.4116 - val_acc: 0.8543\n",
            "Epoch 28/40\n",
            "48000/48000 [==============================] - 3s 60us/sample - loss: 0.4149 - acc: 0.8536 - val_loss: 0.4089 - val_acc: 0.8568\n",
            "Epoch 29/40\n",
            "48000/48000 [==============================] - 3s 59us/sample - loss: 0.4121 - acc: 0.8545 - val_loss: 0.4067 - val_acc: 0.8566\n",
            "Epoch 30/40\n",
            "48000/48000 [==============================] - 3s 59us/sample - loss: 0.4099 - acc: 0.8560 - val_loss: 0.4042 - val_acc: 0.8577\n",
            "Epoch 31/40\n",
            "48000/48000 [==============================] - 3s 60us/sample - loss: 0.4074 - acc: 0.8558 - val_loss: 0.4018 - val_acc: 0.8582\n",
            "Epoch 32/40\n",
            "48000/48000 [==============================] - 3s 60us/sample - loss: 0.4050 - acc: 0.8568 - val_loss: 0.4010 - val_acc: 0.8578\n",
            "Epoch 33/40\n",
            "48000/48000 [==============================] - 3s 59us/sample - loss: 0.4027 - acc: 0.8580 - val_loss: 0.3995 - val_acc: 0.8587\n",
            "Epoch 34/40\n",
            "48000/48000 [==============================] - 3s 59us/sample - loss: 0.4005 - acc: 0.8585 - val_loss: 0.3975 - val_acc: 0.8589\n",
            "Epoch 35/40\n",
            "48000/48000 [==============================] - 3s 59us/sample - loss: 0.3988 - acc: 0.8589 - val_loss: 0.3946 - val_acc: 0.8602\n",
            "Epoch 36/40\n",
            "48000/48000 [==============================] - 3s 60us/sample - loss: 0.3966 - acc: 0.8603 - val_loss: 0.3944 - val_acc: 0.8610\n",
            "Epoch 37/40\n",
            "48000/48000 [==============================] - 3s 60us/sample - loss: 0.3947 - acc: 0.8604 - val_loss: 0.3918 - val_acc: 0.8602\n",
            "Epoch 38/40\n",
            "48000/48000 [==============================] - 3s 60us/sample - loss: 0.3927 - acc: 0.8614 - val_loss: 0.3912 - val_acc: 0.8632\n",
            "Epoch 39/40\n",
            "48000/48000 [==============================] - 3s 60us/sample - loss: 0.3910 - acc: 0.8616 - val_loss: 0.3893 - val_acc: 0.8615\n",
            "Epoch 40/40\n",
            "48000/48000 [==============================] - 3s 60us/sample - loss: 0.3891 - acc: 0.8620 - val_loss: 0.3899 - val_acc: 0.8630\n"
          ],
          "name": "stdout"
        }
      ]
    },
    {
      "cell_type": "code",
      "metadata": {
        "id": "MuQ6ubWz8GXp",
        "colab_type": "code",
        "outputId": "08befc9c-a759-4dae-f210-faaa6f5f2df6",
        "colab": {
          "base_uri": "https://localhost:8080/",
          "height": 34
        }
      },
      "source": [
        "#손실과 정확도 그래프 그리기\n",
        "print(history.history.keys())"
      ],
      "execution_count": 0,
      "outputs": [
        {
          "output_type": "stream",
          "text": [
            "dict_keys(['loss', 'acc', 'val_loss', 'val_acc'])\n"
          ],
          "name": "stdout"
        }
      ]
    },
    {
      "cell_type": "code",
      "metadata": {
        "id": "ywce8-Kr8N7H",
        "colab_type": "code",
        "outputId": "752ee612-c672-4bc9-ce40-9d3b720c67a8",
        "colab": {
          "base_uri": "https://localhost:8080/",
          "height": 279
        }
      },
      "source": [
        "plt.plot(history.history['loss'])\n",
        "plt.plot(history.history['val_loss'])\n",
        "plt.ylabel('loss')\n",
        "plt.xlabel('epoch')\n",
        "plt.legend(['train_loss', 'val_loss'])\n",
        "plt.show()"
      ],
      "execution_count": 0,
      "outputs": [
        {
          "output_type": "display_data",
          "data": {
            "image/png": "[encoded data removed]",
            "text/plain": [
              "<Figure size 432x288 with 1 Axes>"
            ]
          },
          "metadata": {
            "tags": []
          }
        }
      ]
    },
    {
      "cell_type": "code",
      "metadata": {
        "id": "E9SkdZu78SGZ",
        "colab_type": "code",
        "outputId": "272da438-e414-4452-a1ca-ae95926ebe88",
        "colab": {
          "base_uri": "https://localhost:8080/",
          "height": 279
        }
      },
      "source": [
        "plt.plot(history.history['acc'])\n",
        "plt.plot(history.history['val_acc'])\n",
        "plt.ylabel('acc')\n",
        "plt.xlabel('epoch')\n",
        "plt.legend(['train_accuracy', 'val_accuracy'])\n",
        "plt.show()"
      ],
      "execution_count": 0,
      "outputs": [
        {
          "output_type": "display_data",
          "data": {
            "image/png": "[encoded data removed]",
            "text/plain": [
              "<Figure size 432x288 with 1 Axes>"
            ]
          },
          "metadata": {
            "tags": []
          }
        }
      ]
    },
    {
      "cell_type": "code",
      "metadata": {
        "id": "aI-wCQSt8dp8",
        "colab_type": "code",
        "outputId": "8b15a7fc-0cc6-4722-f8b4-bc9c482078a7",
        "colab": {
          "base_uri": "https://localhost:8080/",
          "height": 34
        }
      },
      "source": [
        "#검증세트 정확도 계산\n",
        "loss, acc = model.evaluate(x_val, y_val_encoded, verbose=0)\n",
        "print(acc)"
      ],
      "execution_count": 0,
      "outputs": [
        {
          "output_type": "stream",
          "text": [
            "0.863\n"
          ],
          "name": "stdout"
        }
      ]
    }
  ]
}